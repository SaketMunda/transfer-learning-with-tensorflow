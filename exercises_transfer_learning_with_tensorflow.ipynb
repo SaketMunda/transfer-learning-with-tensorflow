{
  "nbformat": 4,
  "nbformat_minor": 0,
  "metadata": {
    "colab": {
      "provenance": [],
      "mount_file_id": "17jz_598L-ppk-tOfXZkq9nFsZdBOkZ-g",
      "authorship_tag": "ABX9TyNk0XefclMZb1abKBVmMmsq",
      "include_colab_link": true
    },
    "kernelspec": {
      "name": "python3",
      "display_name": "Python 3"
    },
    "language_info": {
      "name": "python"
    },
    "accelerator": "GPU",
    "gpuClass": "standard"
  },
  "cells": [
    {
      "cell_type": "markdown",
      "metadata": {
        "id": "view-in-github",
        "colab_type": "text"
      },
      "source": [
        "<a href=\"https://colab.research.google.com/github/SaketMunda/transfer-learning-with-tensorflow/blob/master/exercises_transfer_learning_with_tensorflow.ipynb\" target=\"_parent\"><img src=\"https://colab.research.google.com/assets/colab-badge.svg\" alt=\"Open In Colab\"/></a>"
      ]
    },
    {
      "cell_type": "markdown",
      "source": [
        "# Transfer Learning Feature Extraction Exercise with TensorFlow\n",
        "\n",
        "This notebook is to do below exercises using TensorFlow to learn how Transfer Learning works,\n",
        "\n",
        "- [ ] Build and fit a model using the same data we have here but with the MobileNetV2 architecture feature extraction ([mobilenet_v2_100_224/feature_vector](https://tfhub.dev/google/imagenet/mobilenet_v2_100_224/feature_vector/4)) from TensorFlow Hub, how does it perform compared to our other models?\n",
        "- [ ] Name 3 different image classification models on TensorFlow Hub that we haven't used.\n",
        "- [ ] Build a model to classify images of two different things you've taken photos of.\n",
        "    - You can use any feature extraction layer from TensorFlow Hub you like for this.\n",
        "    - You should aim to have at least 10 images of each class, for example to build a fridge versus oven classifier, you'll want 10 images of fridges and 10 images of ovens.\n",
        "- [ ] What is the current best performing model on ImageNet?\n",
        "  - *Hint*: you might want to check [sotabench.com](https://www.sotabench.com/) for this."
      ],
      "metadata": {
        "id": "GX797pbC0ayE"
      }
    },
    {
      "cell_type": "markdown",
      "source": [
        "## 1. Build MobileNetV2 architecture feature extraction from TensorFLow Hub\n",
        "\n",
        "For this exercise, we are going to take the url from TensorFlow Hub of `mobilenet_v2_100_224/feature_vector` and use the model, build it and fit our data and compare the results with the model that used in the lecture module.\n"
      ],
      "metadata": {
        "id": "EJW0jaQj1JQd"
      }
    },
    {
      "cell_type": "code",
      "source": [
        "# Declare the model url\n",
        "MOBILENETV2_URL = \"https://tfhub.dev/google/imagenet/mobilenet_v2_100_224/feature_vector/5\""
      ],
      "metadata": {
        "id": "2GXdxK_A1QA-"
      },
      "execution_count": null,
      "outputs": []
    },
    {
      "cell_type": "markdown",
      "source": [
        "### Download and becoming one with the data"
      ],
      "metadata": {
        "id": "m-97MaHF2M7w"
      }
    },
    {
      "cell_type": "code",
      "source": [
        "import zipfile\n",
        "\n",
        "# Download the data\n",
        "!wget https://storage.googleapis.com/ztm_tf_course/food_vision/10_food_classes_10_percent.zip\n",
        "\n",
        "# Unzip the data\n",
        "zip_ref = zipfile.ZipFile(\"10_food_classes_10_percent.zip\", \"r\")\n",
        "zip_ref.extractall()\n",
        "zip_ref.close()"
      ],
      "metadata": {
        "colab": {
          "base_uri": "https://localhost:8080/"
        },
        "id": "IXFNROwb2jAa",
        "outputId": "ca8ab5c8-f66c-4c5a-ae63-81dcd1ee20ca"
      },
      "execution_count": null,
      "outputs": [
        {
          "output_type": "stream",
          "name": "stdout",
          "text": [
            "--2022-12-13 05:31:11--  https://storage.googleapis.com/ztm_tf_course/food_vision/10_food_classes_10_percent.zip\n",
            "Resolving storage.googleapis.com (storage.googleapis.com)... 142.251.12.128, 74.125.68.128, 142.250.4.128, ...\n",
            "Connecting to storage.googleapis.com (storage.googleapis.com)|142.251.12.128|:443... connected.\n",
            "HTTP request sent, awaiting response... 200 OK\n",
            "Length: 168546183 (161M) [application/zip]\n",
            "Saving to: ‘10_food_classes_10_percent.zip’\n",
            "\n",
            "10_food_classes_10_ 100%[===================>] 160.74M  21.4MB/s    in 9.8s    \n",
            "\n",
            "2022-12-13 05:31:22 (16.5 MB/s) - ‘10_food_classes_10_percent.zip’ saved [168546183/168546183]\n",
            "\n"
          ]
        }
      ]
    },
    {
      "cell_type": "code",
      "source": [
        "# Check How many images we have in each folder ?\n",
        "\n",
        "import os\n",
        "\n",
        "for dirpath,dirnames,filenames in os.walk(\"10_food_classes_10_percent\"):\n",
        "  print(f\"There are {len(dirnames)} directories and {len(filenames)} files in '{dirpath}'\")"
      ],
      "metadata": {
        "colab": {
          "base_uri": "https://localhost:8080/"
        },
        "id": "vl2yvNHf22ea",
        "outputId": "c4713fbc-c316-4331-d57e-91fbd67ef628"
      },
      "execution_count": null,
      "outputs": [
        {
          "output_type": "stream",
          "name": "stdout",
          "text": [
            "There are 2 directories and 0 files in '10_food_classes_10_percent'\n",
            "There are 10 directories and 0 files in '10_food_classes_10_percent/train'\n",
            "There are 0 directories and 75 files in '10_food_classes_10_percent/train/steak'\n",
            "There are 0 directories and 75 files in '10_food_classes_10_percent/train/hamburger'\n",
            "There are 0 directories and 75 files in '10_food_classes_10_percent/train/chicken_wings'\n",
            "There are 0 directories and 75 files in '10_food_classes_10_percent/train/chicken_curry'\n",
            "There are 0 directories and 75 files in '10_food_classes_10_percent/train/grilled_salmon'\n",
            "There are 0 directories and 75 files in '10_food_classes_10_percent/train/ramen'\n",
            "There are 0 directories and 75 files in '10_food_classes_10_percent/train/ice_cream'\n",
            "There are 0 directories and 75 files in '10_food_classes_10_percent/train/fried_rice'\n",
            "There are 0 directories and 75 files in '10_food_classes_10_percent/train/sushi'\n",
            "There are 0 directories and 75 files in '10_food_classes_10_percent/train/pizza'\n",
            "There are 10 directories and 0 files in '10_food_classes_10_percent/test'\n",
            "There are 0 directories and 250 files in '10_food_classes_10_percent/test/steak'\n",
            "There are 0 directories and 250 files in '10_food_classes_10_percent/test/hamburger'\n",
            "There are 0 directories and 250 files in '10_food_classes_10_percent/test/chicken_wings'\n",
            "There are 0 directories and 250 files in '10_food_classes_10_percent/test/chicken_curry'\n",
            "There are 0 directories and 250 files in '10_food_classes_10_percent/test/grilled_salmon'\n",
            "There are 0 directories and 250 files in '10_food_classes_10_percent/test/ramen'\n",
            "There are 0 directories and 250 files in '10_food_classes_10_percent/test/ice_cream'\n",
            "There are 0 directories and 250 files in '10_food_classes_10_percent/test/fried_rice'\n",
            "There are 0 directories and 250 files in '10_food_classes_10_percent/test/sushi'\n",
            "There are 0 directories and 250 files in '10_food_classes_10_percent/test/pizza'\n"
          ]
        }
      ]
    },
    {
      "cell_type": "markdown",
      "source": [
        "We have 75 images per class in our training set and 250 images per class in Test set.\n",
        "\n",
        "Let's see how we can use those images to predict the type of food using `mobilenetv2` model."
      ],
      "metadata": {
        "id": "xUw7x9233TJV"
      }
    },
    {
      "cell_type": "markdown",
      "source": [
        "### End-To-End Transfer Learning Feature Extraction model\n",
        "\n",
        "In this section we will build the end-to-end ML worflow using Transfer Learning feature extraction of `mobilenetv2` model from TensorFlow Hub.\n",
        "\n",
        "For this, we will do\n",
        "- Create Data loaders using `ImageDataGenerator`(preparing the data)\n",
        "- Load Training data and test data using `flow_from_directory`\n",
        "- Create callbacks to track the experiment using `tf.keras.callbacks.TensorBoard`\n",
        "- Fetch the model using `KerasLayer()` from TensorFlow Hub\n",
        "- Compile and fit the model using our data."
      ],
      "metadata": {
        "id": "ITuyiRyZ33_a"
      }
    },
    {
      "cell_type": "code",
      "source": [
        "# Import the libraries\n",
        "import tensorflow as tf\n",
        "from tensorflow.keras.preprocessing.image import ImageDataGenerator\n",
        "from tensorflow.keras import layers\n",
        "import tensorflow_hub as hub\n",
        "import datetime\n",
        "\n",
        "# Create data loaders\n",
        "train_datagen = ImageDataGenerator(rescale=1/255.)\n",
        "test_datagen = ImageDataGenerator(rescale=1/255.)\n",
        "\n",
        "# Declare train and test directories\n",
        "train_dir = \"10_food_classes_10_percent/train/\"\n",
        "test_dir = \"10_food_classes_10_percent/test/\"\n",
        "\n",
        "# Load the train and test data from directory\n",
        "print('Training Images:')\n",
        "train_data = train_datagen.flow_from_directory(train_dir,\n",
        "                                               target_size=(224, 224),\n",
        "                                               batch_size=32,\n",
        "                                               class_mode='categorical')\n",
        "\n",
        "print(\"Test Images:\")\n",
        "test_data = test_datagen.flow_from_directory(test_dir,\n",
        "                                             target_size=(224, 224),\n",
        "                                             batch_size=32,\n",
        "                                             class_mode='categorical')\n",
        "\n",
        "# Create callbacks\n",
        "def create_tensorboard_callbacks(dir_name, experiment_name):\n",
        "  log_dir = dir_name + \"/\" + experiment_name + \"/\" + datetime.datetime.now().strftime(\"%Y%m%d-%H%M%S\")\n",
        "  tensorboard_callback = tf.keras.callbacks.TensorBoard(\n",
        "      log_dir = log_dir\n",
        "  )\n",
        "  print(f\"Saving Tensorboard log files to:{log_dir}\")\n",
        "  return tensorboard_callback\n",
        "\n",
        "\n",
        "# Load the model from Tensorflow Hub\n",
        "feature_extractor_model = hub.KerasLayer(MOBILENETV2_URL,\n",
        "                                         trainable=False,\n",
        "                                         name='feature_extraction_layer',\n",
        "                                         input_shape=(224, 224, 3))\n",
        "\n",
        "# Create our own model\n",
        "model = tf.keras.Sequential([\n",
        "    feature_extractor_model,\n",
        "    layers.Dense(train_data.num_classes, activation=\"softmax\", name='output_layer') # softmax for multiclass\n",
        "])\n",
        "\n",
        "# Compile the model\n",
        "model.compile(loss=tf.keras.losses.CategoricalCrossentropy(),\n",
        "              optimizer='Adam',\n",
        "              metrics=['accuracy'])\n",
        "\n",
        "# Fit the model\n",
        "history = model.fit(train_data,\n",
        "                    epochs=5,\n",
        "                    steps_per_epoch=len(train_data),\n",
        "                    validation_data=test_data,\n",
        "                    validation_steps=len(test_data),\n",
        "                    callbacks=[create_tensorboard_callbacks(\"tensorflow_hub\", \"mobilenetV2\")])"
      ],
      "metadata": {
        "colab": {
          "base_uri": "https://localhost:8080/"
        },
        "id": "t_fDbMJs39Wn",
        "outputId": "a1c292cb-644c-4673-dc13-50b8c5ff34a9"
      },
      "execution_count": null,
      "outputs": [
        {
          "output_type": "stream",
          "name": "stdout",
          "text": [
            "Training Images:\n",
            "Found 750 images belonging to 10 classes.\n",
            "Test Images:\n",
            "Found 2500 images belonging to 10 classes.\n",
            "Saving Tensorboard log files to:tensorflow_hub/mobilenetV2/20221213-053143\n",
            "Epoch 1/5\n",
            "24/24 [==============================] - 26s 727ms/step - loss: 1.8283 - accuracy: 0.3707 - val_loss: 1.2616 - val_accuracy: 0.6132\n",
            "Epoch 2/5\n",
            "24/24 [==============================] - 24s 1s/step - loss: 0.9769 - accuracy: 0.7280 - val_loss: 0.8832 - val_accuracy: 0.7352\n",
            "Epoch 3/5\n",
            "24/24 [==============================] - 25s 1s/step - loss: 0.6927 - accuracy: 0.8160 - val_loss: 0.7482 - val_accuracy: 0.7764\n",
            "Epoch 4/5\n",
            "24/24 [==============================] - 17s 743ms/step - loss: 0.5494 - accuracy: 0.8667 - val_loss: 0.6844 - val_accuracy: 0.7940\n",
            "Epoch 5/5\n",
            "24/24 [==============================] - 16s 696ms/step - loss: 0.4613 - accuracy: 0.8880 - val_loss: 0.6471 - val_accuracy: 0.8024\n"
          ]
        }
      ]
    },
    {
      "cell_type": "markdown",
      "source": [
        "### Plotting the loss curves"
      ],
      "metadata": {
        "id": "XRYvJyFi9c6Y"
      }
    },
    {
      "cell_type": "code",
      "source": [
        "import matplotlib.pyplot as plt\n",
        "\n",
        "loss = history.history['loss']\n",
        "validation_loss = history.history['val_loss']\n",
        "\n",
        "accuracy = history.history['accuracy']\n",
        "val_accuracy = history.history['val_accuracy']\n",
        "\n",
        "epochs = range(len(history.history['loss']))\n",
        "\n",
        "# plot the loss curve\n",
        "plt.plot(epochs, loss, label='Training Loss')\n",
        "plt.plot(epochs, validation_loss, label='Validation loss')\n",
        "plt.legend()\n",
        "plt.xlabel(\"Epochs\")\n",
        "plt.title('Loss curves')\n",
        "\n",
        "plt.figure()\n",
        "\n",
        "plt.plot(epochs, accuracy, label='Training accuracy')\n",
        "plt.plot(epochs, val_accuracy, label='Validation accuracy')\n",
        "plt.legend()\n",
        "plt.xlabel(\"Epochs\")\n",
        "plt.title('Accuracy curves');"
      ],
      "metadata": {
        "colab": {
          "base_uri": "https://localhost:8080/",
          "height": 573
        },
        "id": "hWAE8Wof-Am3",
        "outputId": "bfd98861-2074-4012-c25c-ea6eb2ef2cf9"
      },
      "execution_count": null,
      "outputs": [
        {
          "output_type": "display_data",
          "data": {
            "text/plain": [
              "<Figure size 432x288 with 1 Axes>"
            ],
            "image/png": "[encoded data removed]"
          },
          "metadata": {
            "needs_background": "light"
          }
        },
        {
          "output_type": "display_data",
          "data": {
            "text/plain": [
              "<Figure size 432x288 with 1 Axes>"
            ],
            "image/png": "[encoded data removed]"
          },
          "metadata": {
            "needs_background": "light"
          }
        }
      ]
    },
    {
      "cell_type": "markdown",
      "source": [
        "## 2. Name 3 different image classification models on TensorFlow Hub that we haven't used.\n",
        "\n",
        "- [RegNet-Y](https://tfhub.dev/s?module-type=image-classification,image-feature-vector&network-architecture=regnety)\n",
        "- [NasNet-A](https://tfhub.dev/s?module-type=image-classification,image-feature-vector&network-architecture=nasnet-a-large)\n",
        "- [MobileViT](https://tfhub.dev/s?module-type=image-classification,image-feature-vector&network-architecture=mobilevit)"
      ],
      "metadata": {
        "id": "-rfCRTgWnyc7"
      }
    },
    {
      "cell_type": "markdown",
      "source": [
        "## 3. Build a model to classify images of two different things you've taken photos of.\n",
        "    \n",
        "- You can use any feature extraction layer from TensorFlow Hub you like for this.\n",
        "- You should aim to have at least 10 images of each class, for example to build a truck versus car classifier, you'll want 10 images of fridges and 10 images of ovens.\n"
      ],
      "metadata": {
        "id": "b5ytJbYVocG2"
      }
    },
    {
      "cell_type": "markdown",
      "source": [
        "For this exercise let's build human classifier. I've formatted the data from `unsplash_lite_dataset` and created a dataset which have humans and non-human.\n",
        "\n",
        "So we want our neural network to predict from two classes.\n",
        "\n",
        "I'll take `EfficientNet` architecture feature extractor model for this project.\n"
      ],
      "metadata": {
        "id": "I-XEk8Lmu-h7"
      }
    },
    {
      "cell_type": "code",
      "source": [
        "# File path\n",
        "file_path = \"drive/MyDrive/Data Science/CNNExercise/human-classifier/\"\n",
        "train_dir = f'{file_path}train/'\n",
        "test_dir = f'{file_path}test/'"
      ],
      "metadata": {
        "id": "g_BTm9mIvKi-"
      },
      "execution_count": 5,
      "outputs": []
    },
    {
      "cell_type": "code",
      "source": [
        "# model url\n",
        "efficientnet_url = \"https://tfhub.dev/tensorflow/efficientnet/b0/feature-vector/1\"\n",
        "\n",
        "IMG_SHAPE = (224, 224)\n",
        "BATCH_SIZE = 32"
      ],
      "metadata": {
        "id": "UPO70L8rzn9g"
      },
      "execution_count": 6,
      "outputs": []
    },
    {
      "cell_type": "code",
      "source": [
        "# Check how many files/images we have\n",
        "import os\n",
        "\n",
        "for dirpath,dirnames,filenames in os.walk(file_path):\n",
        "  print(f\"There are {len(dirnames)} directories and {len(filenames)} files in '{dirpath}'\")"
      ],
      "metadata": {
        "colab": {
          "base_uri": "https://localhost:8080/"
        },
        "id": "HD6MFzWu6-G-",
        "outputId": "1cf07824-1c93-4900-e188-e769e302d4d9"
      },
      "execution_count": 10,
      "outputs": [
        {
          "output_type": "stream",
          "name": "stdout",
          "text": [
            "There are 2 directories and 0 files in 'drive/MyDrive/Data Science/CNNExercise/human-classifier/'\n",
            "There are 2 directories and 0 files in 'drive/MyDrive/Data Science/CNNExercise/human-classifier/train'\n",
            "There are 0 directories and 160 files in 'drive/MyDrive/Data Science/CNNExercise/human-classifier/train/human'\n",
            "There are 0 directories and 160 files in 'drive/MyDrive/Data Science/CNNExercise/human-classifier/train/non-human'\n",
            "There are 2 directories and 0 files in 'drive/MyDrive/Data Science/CNNExercise/human-classifier/test'\n",
            "There are 0 directories and 50 files in 'drive/MyDrive/Data Science/CNNExercise/human-classifier/test/human'\n",
            "There are 0 directories and 50 files in 'drive/MyDrive/Data Science/CNNExercise/human-classifier/test/non-human'\n"
          ]
        }
      ]
    },
    {
      "cell_type": "markdown",
      "source": [
        "So we have 160 images for Training set and 50 images for Test set"
      ],
      "metadata": {
        "id": "aq-YVKON7V8v"
      }
    },
    {
      "cell_type": "code",
      "source": [
        "# Create the End-To-End workflow\n",
        "\n",
        "## import libraries\n",
        "import tensorflow as tf\n",
        "from tensorflow.keras import layers\n",
        "from tensorflow.keras.preprocessing.image import ImageDataGenerator\n",
        "import datetime\n",
        "\n",
        "## Instantiate ImageDataGenerator\n",
        "train_datagen = ImageDataGenerator(rescale=1/255.)\n",
        "test_datagen = ImageDataGenerator(rescale=1/255.)\n",
        "\n",
        "## Create Train and Test set\n",
        "train_data = train_datagen.flow_from_directory(train_dir,\n",
        "                                               target_size=IMG_SHAPE,\n",
        "                                               batch_size=BATCH_SIZE,\n",
        "                                               class_mode='binary')\n",
        "test_data = test_datagen.flow_from_directory(test_dir,\n",
        "                                             target_size=IMG_SHAPE,\n",
        "                                             batch_size=BATCH_SIZE,\n",
        "                                             class_mode='binary')\n",
        "\n",
        "## Create a Tensorboard callback to visualize the performace\n",
        "def create_tensorboard_callbacks_human(dir_name, experiment_name):\n",
        "  log_dir = dir_name + \"/\" + experiment_name + \"/\" + datetime.datetime.strftime('%Y%m%D-%H%')\n",
        "  tensorboard_callback = tensorflow.keras.callbacks-\n",
        "\n"
      ],
      "metadata": {
        "id": "84DFhsaQ8eYL"
      },
      "execution_count": null,
      "outputs": []
    }
  ]
}