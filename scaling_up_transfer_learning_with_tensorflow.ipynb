{
  "nbformat": 4,
  "nbformat_minor": 0,
  "metadata": {
    "colab": {
      "provenance": [],
      "toc_visible": true,
      "authorship_tag": "ABX9TyPv7k2XuqhNd+Oi1oNgkmpK",
      "include_colab_link": true
    },
    "kernelspec": {
      "name": "python3",
      "display_name": "Python 3"
    },
    "language_info": {
      "name": "python"
    },
    "accelerator": "GPU",
    "gpuClass": "standard"
  },
  "cells": [
    {
      "cell_type": "markdown",
      "metadata": {
        "id": "view-in-github",
        "colab_type": "text"
      },
      "source": [
        "<a href=\"https://colab.research.google.com/github/SaketMunda/transfer-learning-with-tensorflow/blob/master/scaling_up_transfer_learning_with_tensorflow.ipynb\" target=\"_parent\"><img src=\"https://colab.research.google.com/assets/colab-badge.svg\" alt=\"Open In Colab\"/></a>"
      ]
    },
    {
      "cell_type": "markdown",
      "source": [
        "# Scaling Up Food Vision 101 using Transfer Learning with TensorFlow\n",
        "\n",
        "We're going to move forward with Food Vision 101 dataset and scale up with all the classes(previously we did with 10 classes) in Food101 dataset and build a Food Vision Mini."
      ],
      "metadata": {
        "id": "PqZgMgJPGved"
      }
    },
    {
      "cell_type": "code",
      "source": [
        "# Are we using a gpu ?\n",
        "!nvidia-smi"
      ],
      "metadata": {
        "colab": {
          "base_uri": "https://localhost:8080/"
        },
        "id": "bNZwhV1UIgBn",
        "outputId": "bc95c078-0c7f-4513-ada9-8212d4d5c172"
      },
      "execution_count": 1,
      "outputs": [
        {
          "output_type": "stream",
          "name": "stdout",
          "text": [
            "Wed Jan  4 04:55:19 2023       \n",
            "+-----------------------------------------------------------------------------+\n",
            "| NVIDIA-SMI 460.32.03    Driver Version: 460.32.03    CUDA Version: 11.2     |\n",
            "|-------------------------------+----------------------+----------------------+\n",
            "| GPU  Name        Persistence-M| Bus-Id        Disp.A | Volatile Uncorr. ECC |\n",
            "| Fan  Temp  Perf  Pwr:Usage/Cap|         Memory-Usage | GPU-Util  Compute M. |\n",
            "|                               |                      |               MIG M. |\n",
            "|===============================+======================+======================|\n",
            "|   0  Tesla T4            Off  | 00000000:00:04.0 Off |                    0 |\n",
            "| N/A   73C    P0    30W /  70W |      0MiB / 15109MiB |      0%      Default |\n",
            "|                               |                      |                  N/A |\n",
            "+-------------------------------+----------------------+----------------------+\n",
            "                                                                               \n",
            "+-----------------------------------------------------------------------------+\n",
            "| Processes:                                                                  |\n",
            "|  GPU   GI   CI        PID   Type   Process name                  GPU Memory |\n",
            "|        ID   ID                                                   Usage      |\n",
            "|=============================================================================|\n",
            "|  No running processes found                                                 |\n",
            "+-----------------------------------------------------------------------------+\n"
          ]
        }
      ]
    },
    {
      "cell_type": "markdown",
      "source": [
        "Tesla T4 GPU we are using."
      ],
      "metadata": {
        "id": "k7_vSB9zIjUS"
      }
    },
    {
      "cell_type": "markdown",
      "source": [
        "## Load 10% of Food101 Dataset\n",
        "\n",
        "In the original Food101 dataset, there's 1000 images per class (750 of each class in the training set and 250 of each class in the test set), totalling 101,000 images.\n",
        "\n",
        "We could start modelling straight away on this large dataset but in the spirit of continually experimenting, we're going to see how our previously working model's go with 10% of the training data.\n",
        "\n",
        "This means for each of the 101 food classes we'll be building a model on 75 training images and evaluating it on 250 test images."
      ],
      "metadata": {
        "id": "FPvwugP8In1h"
      }
    },
    {
      "cell_type": "code",
      "source": [
        "# Download the helper function\n",
        "!wget https://raw.githubusercontent.com/SaketMunda/ml-helpers/master/helper_functions.py\n",
        "\n",
        "# Import functions from helper_functions.py\n",
        "from helper_functions import unzip_data, walk_through_dir, create_tensorboard_callback, plot_loss_curves"
      ],
      "metadata": {
        "colab": {
          "base_uri": "https://localhost:8080/"
        },
        "id": "b2Z0wdvmItpZ",
        "outputId": "21ccc0dd-60d7-4039-eb50-a3a4e510971f"
      },
      "execution_count": 2,
      "outputs": [
        {
          "output_type": "stream",
          "name": "stdout",
          "text": [
            "--2023-01-04 04:57:38--  https://raw.githubusercontent.com/SaketMunda/ml-helpers/master/helper_functions.py\n",
            "Resolving raw.githubusercontent.com (raw.githubusercontent.com)... 185.199.108.133, 185.199.109.133, 185.199.110.133, ...\n",
            "Connecting to raw.githubusercontent.com (raw.githubusercontent.com)|185.199.108.133|:443... connected.\n",
            "HTTP request sent, awaiting response... 200 OK\n",
            "Length: 2904 (2.8K) [text/plain]\n",
            "Saving to: ‘helper_functions.py’\n",
            "\n",
            "helper_functions.py 100%[===================>]   2.84K  --.-KB/s    in 0s      \n",
            "\n",
            "2023-01-04 04:57:39 (57.1 MB/s) - ‘helper_functions.py’ saved [2904/2904]\n",
            "\n"
          ]
        }
      ]
    },
    {
      "cell_type": "code",
      "source": [
        "# Download Zipfile of Food101 Dataset\n",
        "!wget https://storage.googleapis.com/ztm_tf_course/food_vision/101_food_classes_10_percent.zip \n",
        "\n",
        "# Unzip the file\n",
        "unzip_data('101_food_classes_10_percent.zip')\n",
        "\n",
        "# walking through the directory\n",
        "walk_through_dir('101_food_classes_10_percent')"
      ],
      "metadata": {
        "colab": {
          "base_uri": "https://localhost:8080/"
        },
        "id": "yiFoUK6iJFN0",
        "outputId": "26b3bb05-7dc6-4385-aa98-cf69ddd845ec"
      },
      "execution_count": 3,
      "outputs": [
        {
          "output_type": "stream",
          "name": "stdout",
          "text": [
            "--2023-01-04 05:03:03--  https://storage.googleapis.com/ztm_tf_course/food_vision/101_food_classes_10_percent.zip\n",
            "Resolving storage.googleapis.com (storage.googleapis.com)... 74.125.68.128, 74.125.24.128, 142.250.4.128, ...\n",
            "Connecting to storage.googleapis.com (storage.googleapis.com)|74.125.68.128|:443... connected.\n",
            "HTTP request sent, awaiting response... 200 OK\n",
            "Length: 1625420029 (1.5G) [application/zip]\n",
            "Saving to: ‘101_food_classes_10_percent.zip’\n",
            "\n",
            "101_food_classes_10 100%[===================>]   1.51G  22.7MB/s    in 68s     \n",
            "\n",
            "2023-01-04 05:04:12 (22.8 MB/s) - ‘101_food_classes_10_percent.zip’ saved [1625420029/1625420029]\n",
            "\n",
            "There are 2 directories and 0 files in '101_food_classes_10_percent'\n",
            "There are 101 directories and 0 files in '101_food_classes_10_percent/train'\n",
            "There are 0 directories and 75 files in '101_food_classes_10_percent/train/club_sandwich'\n",
            "There are 0 directories and 75 files in '101_food_classes_10_percent/train/gnocchi'\n",
            "There are 0 directories and 75 files in '101_food_classes_10_percent/train/filet_mignon'\n",
            "There are 0 directories and 75 files in '101_food_classes_10_percent/train/eggs_benedict'\n",
            "There are 0 directories and 75 files in '101_food_classes_10_percent/train/macaroni_and_cheese'\n",
            "There are 0 directories and 75 files in '101_food_classes_10_percent/train/beef_carpaccio'\n",
            "There are 0 directories and 75 files in '101_food_classes_10_percent/train/croque_madame'\n",
            "There are 0 directories and 75 files in '101_food_classes_10_percent/train/cup_cakes'\n",
            "There are 0 directories and 75 files in '101_food_classes_10_percent/train/huevos_rancheros'\n",
            "There are 0 directories and 75 files in '101_food_classes_10_percent/train/fried_calamari'\n",
            "There are 0 directories and 75 files in '101_food_classes_10_percent/train/pho'\n",
            "There are 0 directories and 75 files in '101_food_classes_10_percent/train/paella'\n",
            "There are 0 directories and 75 files in '101_food_classes_10_percent/train/cheesecake'\n",
            "There are 0 directories and 75 files in '101_food_classes_10_percent/train/hot_and_sour_soup'\n",
            "There are 0 directories and 75 files in '101_food_classes_10_percent/train/caprese_salad'\n",
            "There are 0 directories and 75 files in '101_food_classes_10_percent/train/crab_cakes'\n",
            "There are 0 directories and 75 files in '101_food_classes_10_percent/train/omelette'\n",
            "There are 0 directories and 75 files in '101_food_classes_10_percent/train/ravioli'\n",
            "There are 0 directories and 75 files in '101_food_classes_10_percent/train/samosa'\n",
            "There are 0 directories and 75 files in '101_food_classes_10_percent/train/edamame'\n",
            "There are 0 directories and 75 files in '101_food_classes_10_percent/train/chocolate_cake'\n",
            "There are 0 directories and 75 files in '101_food_classes_10_percent/train/hummus'\n",
            "There are 0 directories and 75 files in '101_food_classes_10_percent/train/churros'\n",
            "There are 0 directories and 75 files in '101_food_classes_10_percent/train/donuts'\n",
            "There are 0 directories and 75 files in '101_food_classes_10_percent/train/pad_thai'\n",
            "There are 0 directories and 75 files in '101_food_classes_10_percent/train/fried_rice'\n",
            "There are 0 directories and 75 files in '101_food_classes_10_percent/train/cannoli'\n",
            "There are 0 directories and 75 files in '101_food_classes_10_percent/train/spring_rolls'\n",
            "There are 0 directories and 75 files in '101_food_classes_10_percent/train/waffles'\n",
            "There are 0 directories and 75 files in '101_food_classes_10_percent/train/bruschetta'\n",
            "There are 0 directories and 75 files in '101_food_classes_10_percent/train/beef_tartare'\n",
            "There are 0 directories and 75 files in '101_food_classes_10_percent/train/french_toast'\n",
            "There are 0 directories and 75 files in '101_food_classes_10_percent/train/tuna_tartare'\n",
            "There are 0 directories and 75 files in '101_food_classes_10_percent/train/clam_chowder'\n",
            "There are 0 directories and 75 files in '101_food_classes_10_percent/train/falafel'\n",
            "There are 0 directories and 75 files in '101_food_classes_10_percent/train/dumplings'\n",
            "There are 0 directories and 75 files in '101_food_classes_10_percent/train/risotto'\n",
            "There are 0 directories and 75 files in '101_food_classes_10_percent/train/nachos'\n",
            "There are 0 directories and 75 files in '101_food_classes_10_percent/train/shrimp_and_grits'\n",
            "There are 0 directories and 75 files in '101_food_classes_10_percent/train/lasagna'\n",
            "There are 0 directories and 75 files in '101_food_classes_10_percent/train/spaghetti_bolognese'\n",
            "There are 0 directories and 75 files in '101_food_classes_10_percent/train/grilled_cheese_sandwich'\n",
            "There are 0 directories and 75 files in '101_food_classes_10_percent/train/onion_rings'\n",
            "There are 0 directories and 75 files in '101_food_classes_10_percent/train/apple_pie'\n",
            "There are 0 directories and 75 files in '101_food_classes_10_percent/train/fish_and_chips'\n",
            "There are 0 directories and 75 files in '101_food_classes_10_percent/train/french_onion_soup'\n",
            "There are 0 directories and 75 files in '101_food_classes_10_percent/train/oysters'\n",
            "There are 0 directories and 75 files in '101_food_classes_10_percent/train/macarons'\n",
            "There are 0 directories and 75 files in '101_food_classes_10_percent/train/hamburger'\n",
            "There are 0 directories and 75 files in '101_food_classes_10_percent/train/bibimbap'\n",
            "There are 0 directories and 75 files in '101_food_classes_10_percent/train/escargots'\n",
            "There are 0 directories and 75 files in '101_food_classes_10_percent/train/ice_cream'\n",
            "There are 0 directories and 75 files in '101_food_classes_10_percent/train/chicken_curry'\n",
            "There are 0 directories and 75 files in '101_food_classes_10_percent/train/seaweed_salad'\n",
            "There are 0 directories and 75 files in '101_food_classes_10_percent/train/sushi'\n",
            "There are 0 directories and 75 files in '101_food_classes_10_percent/train/strawberry_shortcake'\n",
            "There are 0 directories and 75 files in '101_food_classes_10_percent/train/prime_rib'\n",
            "There are 0 directories and 75 files in '101_food_classes_10_percent/train/pulled_pork_sandwich'\n",
            "There are 0 directories and 75 files in '101_food_classes_10_percent/train/sashimi'\n",
            "There are 0 directories and 75 files in '101_food_classes_10_percent/train/creme_brulee'\n",
            "There are 0 directories and 75 files in '101_food_classes_10_percent/train/cheese_plate'\n",
            "There are 0 directories and 75 files in '101_food_classes_10_percent/train/poutine'\n",
            "There are 0 directories and 75 files in '101_food_classes_10_percent/train/carrot_cake'\n",
            "There are 0 directories and 75 files in '101_food_classes_10_percent/train/breakfast_burrito'\n",
            "There are 0 directories and 75 files in '101_food_classes_10_percent/train/tacos'\n",
            "There are 0 directories and 75 files in '101_food_classes_10_percent/train/chicken_wings'\n",
            "There are 0 directories and 75 files in '101_food_classes_10_percent/train/ceviche'\n",
            "There are 0 directories and 75 files in '101_food_classes_10_percent/train/red_velvet_cake'\n",
            "There are 0 directories and 75 files in '101_food_classes_10_percent/train/scallops'\n",
            "There are 0 directories and 75 files in '101_food_classes_10_percent/train/baklava'\n",
            "There are 0 directories and 75 files in '101_food_classes_10_percent/train/hot_dog'\n",
            "There are 0 directories and 75 files in '101_food_classes_10_percent/train/guacamole'\n",
            "There are 0 directories and 75 files in '101_food_classes_10_percent/train/frozen_yogurt'\n",
            "There are 0 directories and 75 files in '101_food_classes_10_percent/train/beignets'\n",
            "There are 0 directories and 75 files in '101_food_classes_10_percent/train/ramen'\n",
            "There are 0 directories and 75 files in '101_food_classes_10_percent/train/baby_back_ribs'\n",
            "There are 0 directories and 75 files in '101_food_classes_10_percent/train/grilled_salmon'\n",
            "There are 0 directories and 75 files in '101_food_classes_10_percent/train/tiramisu'\n",
            "There are 0 directories and 75 files in '101_food_classes_10_percent/train/lobster_bisque'\n",
            "There are 0 directories and 75 files in '101_food_classes_10_percent/train/deviled_eggs'\n",
            "There are 0 directories and 75 files in '101_food_classes_10_percent/train/foie_gras'\n",
            "There are 0 directories and 75 files in '101_food_classes_10_percent/train/panna_cotta'\n",
            "There are 0 directories and 75 files in '101_food_classes_10_percent/train/lobster_roll_sandwich'\n",
            "There are 0 directories and 75 files in '101_food_classes_10_percent/train/chocolate_mousse'\n",
            "There are 0 directories and 75 files in '101_food_classes_10_percent/train/pizza'\n",
            "There are 0 directories and 75 files in '101_food_classes_10_percent/train/greek_salad'\n",
            "There are 0 directories and 75 files in '101_food_classes_10_percent/train/beet_salad'\n",
            "There are 0 directories and 75 files in '101_food_classes_10_percent/train/pork_chop'\n",
            "There are 0 directories and 75 files in '101_food_classes_10_percent/train/caesar_salad'\n",
            "There are 0 directories and 75 files in '101_food_classes_10_percent/train/miso_soup'\n",
            "There are 0 directories and 75 files in '101_food_classes_10_percent/train/steak'\n",
            "There are 0 directories and 75 files in '101_food_classes_10_percent/train/garlic_bread'\n",
            "There are 0 directories and 75 files in '101_food_classes_10_percent/train/takoyaki'\n",
            "There are 0 directories and 75 files in '101_food_classes_10_percent/train/chicken_quesadilla'\n",
            "There are 0 directories and 75 files in '101_food_classes_10_percent/train/gyoza'\n",
            "There are 0 directories and 75 files in '101_food_classes_10_percent/train/spaghetti_carbonara'\n",
            "There are 0 directories and 75 files in '101_food_classes_10_percent/train/french_fries'\n",
            "There are 0 directories and 75 files in '101_food_classes_10_percent/train/bread_pudding'\n",
            "There are 0 directories and 75 files in '101_food_classes_10_percent/train/mussels'\n",
            "There are 0 directories and 75 files in '101_food_classes_10_percent/train/peking_duck'\n",
            "There are 0 directories and 75 files in '101_food_classes_10_percent/train/pancakes'\n",
            "There are 101 directories and 0 files in '101_food_classes_10_percent/test'\n",
            "There are 0 directories and 250 files in '101_food_classes_10_percent/test/club_sandwich'\n",
            "There are 0 directories and 250 files in '101_food_classes_10_percent/test/gnocchi'\n",
            "There are 0 directories and 250 files in '101_food_classes_10_percent/test/filet_mignon'\n",
            "There are 0 directories and 250 files in '101_food_classes_10_percent/test/eggs_benedict'\n",
            "There are 0 directories and 250 files in '101_food_classes_10_percent/test/macaroni_and_cheese'\n",
            "There are 0 directories and 250 files in '101_food_classes_10_percent/test/beef_carpaccio'\n",
            "There are 0 directories and 250 files in '101_food_classes_10_percent/test/croque_madame'\n",
            "There are 0 directories and 250 files in '101_food_classes_10_percent/test/cup_cakes'\n",
            "There are 0 directories and 250 files in '101_food_classes_10_percent/test/huevos_rancheros'\n",
            "There are 0 directories and 250 files in '101_food_classes_10_percent/test/fried_calamari'\n",
            "There are 0 directories and 250 files in '101_food_classes_10_percent/test/pho'\n",
            "There are 0 directories and 250 files in '101_food_classes_10_percent/test/paella'\n",
            "There are 0 directories and 250 files in '101_food_classes_10_percent/test/cheesecake'\n",
            "There are 0 directories and 250 files in '101_food_classes_10_percent/test/hot_and_sour_soup'\n",
            "There are 0 directories and 250 files in '101_food_classes_10_percent/test/caprese_salad'\n",
            "There are 0 directories and 250 files in '101_food_classes_10_percent/test/crab_cakes'\n",
            "There are 0 directories and 250 files in '101_food_classes_10_percent/test/omelette'\n",
            "There are 0 directories and 250 files in '101_food_classes_10_percent/test/ravioli'\n",
            "There are 0 directories and 250 files in '101_food_classes_10_percent/test/samosa'\n",
            "There are 0 directories and 250 files in '101_food_classes_10_percent/test/edamame'\n",
            "There are 0 directories and 250 files in '101_food_classes_10_percent/test/chocolate_cake'\n",
            "There are 0 directories and 250 files in '101_food_classes_10_percent/test/hummus'\n",
            "There are 0 directories and 250 files in '101_food_classes_10_percent/test/churros'\n",
            "There are 0 directories and 250 files in '101_food_classes_10_percent/test/donuts'\n",
            "There are 0 directories and 250 files in '101_food_classes_10_percent/test/pad_thai'\n",
            "There are 0 directories and 250 files in '101_food_classes_10_percent/test/fried_rice'\n",
            "There are 0 directories and 250 files in '101_food_classes_10_percent/test/cannoli'\n",
            "There are 0 directories and 250 files in '101_food_classes_10_percent/test/spring_rolls'\n",
            "There are 0 directories and 250 files in '101_food_classes_10_percent/test/waffles'\n",
            "There are 0 directories and 250 files in '101_food_classes_10_percent/test/bruschetta'\n",
            "There are 0 directories and 250 files in '101_food_classes_10_percent/test/beef_tartare'\n",
            "There are 0 directories and 250 files in '101_food_classes_10_percent/test/french_toast'\n",
            "There are 0 directories and 250 files in '101_food_classes_10_percent/test/tuna_tartare'\n",
            "There are 0 directories and 250 files in '101_food_classes_10_percent/test/clam_chowder'\n",
            "There are 0 directories and 250 files in '101_food_classes_10_percent/test/falafel'\n",
            "There are 0 directories and 250 files in '101_food_classes_10_percent/test/dumplings'\n",
            "There are 0 directories and 250 files in '101_food_classes_10_percent/test/risotto'\n",
            "There are 0 directories and 250 files in '101_food_classes_10_percent/test/nachos'\n",
            "There are 0 directories and 250 files in '101_food_classes_10_percent/test/shrimp_and_grits'\n",
            "There are 0 directories and 250 files in '101_food_classes_10_percent/test/lasagna'\n",
            "There are 0 directories and 250 files in '101_food_classes_10_percent/test/spaghetti_bolognese'\n",
            "There are 0 directories and 250 files in '101_food_classes_10_percent/test/grilled_cheese_sandwich'\n",
            "There are 0 directories and 250 files in '101_food_classes_10_percent/test/onion_rings'\n",
            "There are 0 directories and 250 files in '101_food_classes_10_percent/test/apple_pie'\n",
            "There are 0 directories and 250 files in '101_food_classes_10_percent/test/fish_and_chips'\n",
            "There are 0 directories and 250 files in '101_food_classes_10_percent/test/french_onion_soup'\n",
            "There are 0 directories and 250 files in '101_food_classes_10_percent/test/oysters'\n",
            "There are 0 directories and 250 files in '101_food_classes_10_percent/test/macarons'\n",
            "There are 0 directories and 250 files in '101_food_classes_10_percent/test/hamburger'\n",
            "There are 0 directories and 250 files in '101_food_classes_10_percent/test/bibimbap'\n",
            "There are 0 directories and 250 files in '101_food_classes_10_percent/test/escargots'\n",
            "There are 0 directories and 250 files in '101_food_classes_10_percent/test/ice_cream'\n",
            "There are 0 directories and 250 files in '101_food_classes_10_percent/test/chicken_curry'\n",
            "There are 0 directories and 250 files in '101_food_classes_10_percent/test/seaweed_salad'\n",
            "There are 0 directories and 250 files in '101_food_classes_10_percent/test/sushi'\n",
            "There are 0 directories and 250 files in '101_food_classes_10_percent/test/strawberry_shortcake'\n",
            "There are 0 directories and 250 files in '101_food_classes_10_percent/test/prime_rib'\n",
            "There are 0 directories and 250 files in '101_food_classes_10_percent/test/pulled_pork_sandwich'\n",
            "There are 0 directories and 250 files in '101_food_classes_10_percent/test/sashimi'\n",
            "There are 0 directories and 250 files in '101_food_classes_10_percent/test/creme_brulee'\n",
            "There are 0 directories and 250 files in '101_food_classes_10_percent/test/cheese_plate'\n",
            "There are 0 directories and 250 files in '101_food_classes_10_percent/test/poutine'\n",
            "There are 0 directories and 250 files in '101_food_classes_10_percent/test/carrot_cake'\n",
            "There are 0 directories and 250 files in '101_food_classes_10_percent/test/breakfast_burrito'\n",
            "There are 0 directories and 250 files in '101_food_classes_10_percent/test/tacos'\n",
            "There are 0 directories and 250 files in '101_food_classes_10_percent/test/chicken_wings'\n",
            "There are 0 directories and 250 files in '101_food_classes_10_percent/test/ceviche'\n",
            "There are 0 directories and 250 files in '101_food_classes_10_percent/test/red_velvet_cake'\n",
            "There are 0 directories and 250 files in '101_food_classes_10_percent/test/scallops'\n",
            "There are 0 directories and 250 files in '101_food_classes_10_percent/test/baklava'\n",
            "There are 0 directories and 250 files in '101_food_classes_10_percent/test/hot_dog'\n",
            "There are 0 directories and 250 files in '101_food_classes_10_percent/test/guacamole'\n",
            "There are 0 directories and 250 files in '101_food_classes_10_percent/test/frozen_yogurt'\n",
            "There are 0 directories and 250 files in '101_food_classes_10_percent/test/beignets'\n",
            "There are 0 directories and 250 files in '101_food_classes_10_percent/test/ramen'\n",
            "There are 0 directories and 250 files in '101_food_classes_10_percent/test/baby_back_ribs'\n",
            "There are 0 directories and 250 files in '101_food_classes_10_percent/test/grilled_salmon'\n",
            "There are 0 directories and 250 files in '101_food_classes_10_percent/test/tiramisu'\n",
            "There are 0 directories and 250 files in '101_food_classes_10_percent/test/lobster_bisque'\n",
            "There are 0 directories and 250 files in '101_food_classes_10_percent/test/deviled_eggs'\n",
            "There are 0 directories and 250 files in '101_food_classes_10_percent/test/foie_gras'\n",
            "There are 0 directories and 250 files in '101_food_classes_10_percent/test/panna_cotta'\n",
            "There are 0 directories and 250 files in '101_food_classes_10_percent/test/lobster_roll_sandwich'\n",
            "There are 0 directories and 250 files in '101_food_classes_10_percent/test/chocolate_mousse'\n",
            "There are 0 directories and 250 files in '101_food_classes_10_percent/test/pizza'\n",
            "There are 0 directories and 250 files in '101_food_classes_10_percent/test/greek_salad'\n",
            "There are 0 directories and 250 files in '101_food_classes_10_percent/test/beet_salad'\n",
            "There are 0 directories and 250 files in '101_food_classes_10_percent/test/pork_chop'\n",
            "There are 0 directories and 250 files in '101_food_classes_10_percent/test/caesar_salad'\n",
            "There are 0 directories and 250 files in '101_food_classes_10_percent/test/miso_soup'\n",
            "There are 0 directories and 250 files in '101_food_classes_10_percent/test/steak'\n",
            "There are 0 directories and 250 files in '101_food_classes_10_percent/test/garlic_bread'\n",
            "There are 0 directories and 250 files in '101_food_classes_10_percent/test/takoyaki'\n",
            "There are 0 directories and 250 files in '101_food_classes_10_percent/test/chicken_quesadilla'\n",
            "There are 0 directories and 250 files in '101_food_classes_10_percent/test/gyoza'\n",
            "There are 0 directories and 250 files in '101_food_classes_10_percent/test/spaghetti_carbonara'\n",
            "There are 0 directories and 250 files in '101_food_classes_10_percent/test/french_fries'\n",
            "There are 0 directories and 250 files in '101_food_classes_10_percent/test/bread_pudding'\n",
            "There are 0 directories and 250 files in '101_food_classes_10_percent/test/mussels'\n",
            "There are 0 directories and 250 files in '101_food_classes_10_percent/test/peking_duck'\n",
            "There are 0 directories and 250 files in '101_food_classes_10_percent/test/pancakes'\n"
          ]
        }
      ]
    },
    {
      "cell_type": "markdown",
      "source": [
        "## Preprocess the Loaded Data (10%)\n",
        "\n",
        "We can preprocess using `image_dataset_from_directory` function to turn our images and labels into a `tf.data.Dataset`, a tensorflow datatype which allows us to pass it directory to our model."
      ],
      "metadata": {
        "id": "9U4nPYlIKU0H"
      }
    },
    {
      "cell_type": "code",
      "source": [
        "# Setup data inputs\n",
        "import tensorflow as tf\n",
        "IMG_SHAPE = (224, 224)\n",
        "BATCH_SIZE = 32\n",
        "\n",
        "train_dir = '101_food_classes_10_percent/train/'\n",
        "test_dir = '101_food_classes_10_percent/test/'\n",
        "\n",
        "train_data_all_10_percent = tf.keras.preprocessing.image_dataset_from_directory(train_dir,\n",
        "                                                                                label_mode='categorical',\n",
        "                                                                                batch_size=BATCH_SIZE,\n",
        "                                                                                image_size=IMG_SHAPE)\n",
        "test_data = tf.keras.preprocessing.image_dataset_from_directory(test_dir,\n",
        "                                                                label_mode='categorical',\n",
        "                                                                image_size=IMG_SHAPE,\n",
        "                                                                batch_size=BATCH_SIZE,\n",
        "                                                                shuffle=False)# don't shuffle test data for prediction analysis"
      ],
      "metadata": {
        "colab": {
          "base_uri": "https://localhost:8080/"
        },
        "id": "WCX9CDsOK2uK",
        "outputId": "7bb06700-f24a-491e-99ee-460b0ea816fa"
      },
      "execution_count": 4,
      "outputs": [
        {
          "output_type": "stream",
          "name": "stdout",
          "text": [
            "Found 7575 files belonging to 101 classes.\n",
            "Found 25250 files belonging to 101 classes.\n"
          ]
        }
      ]
    },
    {
      "cell_type": "markdown",
      "source": [
        "It looks like our training dataset contain, 75 images per class (101 classes) and test dataset contain, 250 images per class from 101 classes."
      ],
      "metadata": {
        "id": "uiLIH-9wLjpq"
      }
    },
    {
      "cell_type": "markdown",
      "source": [
        "## Train a transfer learning Model on 10% of 101 food classes\n",
        "\n",
        "We're going to start by using feature extraction transfer learning with a pre-trained model for a few epochs and then fine-tune for a few more epochs.\n",
        "\n",
        "Our modelling setup will be:\n",
        "- A ModelCheckpoint callback to save our progress during training, this means we could experiment further training later without having to train from scratch every time.\n",
        "- Data Augmentation built right into the model\n",
        "- A headless(no top layers) EfficientNetB0 architecture from `tf.keras.applications` as our base model\n",
        "- A `Dense` layer with 101 hidden neurons (same as the number of food classes) and softmax activation as the output layer\n",
        "- Categorical Crossentropy as the loss function since we're dealing with more than two classes\n",
        "- The Adam optimizer with the default settings\n",
        "- Fitting for full 5 passes on the training data while evaluating 15% of the test data.\n"
      ],
      "metadata": {
        "id": "Ge1XzcTXL0kl"
      }
    },
    {
      "cell_type": "code",
      "source": [
        "# Start with creating a ModelCheckpoint\n",
        "checkpoint_path = '101_classes_10_percent_data_model_checkpoint'\n",
        "\n",
        "modelcheckpoint_callback = tf.keras.callbacks.ModelCheckpoint(checkpoint_path,\n",
        "                                                              save_best_only=True, # save the best model weights on file (delete the rest)\n",
        "                                                              save_weights_only=True, # save weights only\n",
        "                                                              monitor='val_accuracy') # save the model weights which score the best validation accuracy"
      ],
      "metadata": {
        "id": "yucNgp7vNJfu"
      },
      "execution_count": 5,
      "outputs": []
    },
    {
      "cell_type": "code",
      "source": [
        "# data augmentation layer\n",
        "from tensorflow.keras import layers\n",
        "from tensorflow.keras.models import Sequential\n",
        "from tensorflow.keras.layers.experimental import preprocessing\n",
        "\n",
        "data_augmentation = Sequential([\n",
        "    preprocessing.RandomFlip('horizontal'),\n",
        "    preprocessing.RandomHeight(0.2),\n",
        "    preprocessing.RandomWidth(0.2),\n",
        "    preprocessing.RandomZoom(0.2),\n",
        "    preprocessing.RandomRotation(0.2),\n",
        "    #preprocessing.Rescaling(1/255.) keep for models like ResNet50\n",
        "])"
      ],
      "metadata": {
        "id": "9pBPoU5DN0Cs"
      },
      "execution_count": 14,
      "outputs": []
    },
    {
      "cell_type": "code",
      "source": [
        "# Create the base_model\n",
        "base_model = tf.keras.applications.EfficientNetB0(include_top=False) # so that we can add our own output layers\n",
        "base_model.trainable=False\n",
        "\n",
        "# Setup the model architecture with trainable top layers\n",
        "inputs = layers.Input(shape=IMG_SHAPE+(3,), name='input_layer') # shape of input layer\n",
        "x = data_augmentation(inputs) # augment images (only happens during training)\n",
        "x = base_model(x, training=False) # put the base_model in inference mode so we can use it to extract features without updating weights\n",
        "x = layers.GlobalAveragePooling2D(name='global_average_pooling')(x) # pool the outputs of the basemodel and learn only the important features\n",
        "outputs = layers.Dense(len(train_data_all_10_percent.class_names), activation='softmax', name='output_layer')(x)\n",
        "model = tf.keras.Model(inputs, outputs)"
      ],
      "metadata": {
        "colab": {
          "base_uri": "https://localhost:8080/"
        },
        "id": "bO9gQqxNOHxy",
        "outputId": "acf91e37-9da4-46ca-b861-1adee4b38542"
      },
      "execution_count": 15,
      "outputs": [
        {
          "output_type": "stream",
          "name": "stdout",
          "text": [
            "Downloading data from https://storage.googleapis.com/keras-applications/efficientnetb0_notop.h5\n",
            "16705208/16705208 [==============================] - 2s 0us/step\n"
          ]
        }
      ]
    },
    {
      "cell_type": "markdown",
      "source": [
        "Model is created, let's inspect it."
      ],
      "metadata": {
        "id": "4u9SpR5BQzpI"
      }
    },
    {
      "cell_type": "code",
      "source": [
        "model.summary()"
      ],
      "metadata": {
        "colab": {
          "base_uri": "https://localhost:8080/"
        },
        "id": "ZzYLcPinQ5Q_",
        "outputId": "4c6ac5e8-cffe-4ea0-aee9-eb4c1d0dac5c"
      },
      "execution_count": 16,
      "outputs": [
        {
          "output_type": "stream",
          "name": "stdout",
          "text": [
            "Model: \"model\"\n",
            "_________________________________________________________________\n",
            " Layer (type)                Output Shape              Param #   \n",
            "=================================================================\n",
            " input_layer (InputLayer)    [(None, 224, 224, 3)]     0         \n",
            "                                                                 \n",
            " sequential_1 (Sequential)   (None, 224, 224, 3)       0         \n",
            "                                                                 \n",
            " efficientnetb0 (Functional)  (None, None, None, 1280)  4049571  \n",
            "                                                                 \n",
            " global_average_pooling (Glo  (None, 1280)             0         \n",
            " balAveragePooling2D)                                            \n",
            "                                                                 \n",
            " output_layer (Dense)        (None, 101)               129381    \n",
            "                                                                 \n",
            "=================================================================\n",
            "Total params: 4,178,952\n",
            "Trainable params: 129,381\n",
            "Non-trainable params: 4,049,571\n",
            "_________________________________________________________________\n"
          ]
        }
      ]
    },
    {
      "cell_type": "markdown",
      "source": [
        "Our functional model has 5 layers but each of those layers have varying amounts of layers within them."
      ],
      "metadata": {
        "id": "gFRkLfjUQ642"
      }
    },
    {
      "cell_type": "markdown",
      "source": [
        "Time to compile and fit."
      ],
      "metadata": {
        "id": "UV5woNMZRKs1"
      }
    },
    {
      "cell_type": "code",
      "source": [
        "model.compile(loss='categorical_crossentropy',\n",
        "              optimizer='Adam',\n",
        "              metrics=['accuracy'])\n",
        "\n",
        "# fit the model\n",
        "initial_epoch = 5\n",
        "\n",
        "history_all_classes_10_percent = model.fit(train_data_all_10_percent,\n",
        "                                           epochs=initial_epoch,\n",
        "                                           validation_data=test_data,\n",
        "                                           validation_steps=int(0.15 * len(test_data)),\n",
        "                                           callbacks=[modelcheckpoint_callback])"
      ],
      "metadata": {
        "colab": {
          "base_uri": "https://localhost:8080/"
        },
        "id": "UPoyJNRnRMb4",
        "outputId": "50c87ec6-d7c4-4bb3-b145-e979d2956677"
      },
      "execution_count": 17,
      "outputs": [
        {
          "output_type": "stream",
          "name": "stdout",
          "text": [
            "Epoch 1/5\n",
            "237/237 [==============================] - 102s 371ms/step - loss: 3.3876 - accuracy: 0.2679 - val_loss: 2.5558 - val_accuracy: 0.4227\n",
            "Epoch 2/5\n",
            "237/237 [==============================] - 65s 272ms/step - loss: 2.2167 - accuracy: 0.4869 - val_loss: 2.0334 - val_accuracy: 0.5159\n",
            "Epoch 3/5\n",
            "237/237 [==============================] - 61s 257ms/step - loss: 1.8433 - accuracy: 0.5607 - val_loss: 1.8813 - val_accuracy: 0.5334\n",
            "Epoch 4/5\n",
            "237/237 [==============================] - 57s 241ms/step - loss: 1.6393 - accuracy: 0.6005 - val_loss: 1.8008 - val_accuracy: 0.5373\n",
            "Epoch 5/5\n",
            "237/237 [==============================] - 53s 224ms/step - loss: 1.4772 - accuracy: 0.6397 - val_loss: 1.7444 - val_accuracy: 0.5469\n"
          ]
        }
      ]
    },
    {
      "cell_type": "markdown",
      "source": [
        "Evaluate the model on full test dataset"
      ],
      "metadata": {
        "id": "URqnBhIrRq_P"
      }
    },
    {
      "cell_type": "code",
      "source": [
        "results_feature_extraction_model = model.evaluate(test_data)\n",
        "results_feature_extraction_model"
      ],
      "metadata": {
        "colab": {
          "base_uri": "https://localhost:8080/"
        },
        "id": "yLlEgV3SRxi-",
        "outputId": "482f64fc-4d18-4c00-e3ac-c963aac97d5b"
      },
      "execution_count": 18,
      "outputs": [
        {
          "output_type": "stream",
          "name": "stdout",
          "text": [
            "790/790 [==============================] - 58s 73ms/step - loss: 1.5785 - accuracy: 0.5851\n"
          ]
        },
        {
          "output_type": "execute_result",
          "data": {
            "text/plain": [
              "[1.5784589052200317, 0.5851089358329773]"
            ]
          },
          "metadata": {},
          "execution_count": 18
        }
      ]
    },
    {
      "cell_type": "markdown",
      "source": [
        "Well it looks like **we just beat our baseline (the results from the original Food101 paper) with 10% of the data** In under 5-minutes... that's the power of deep learning and more precisely transfer learning: leveraging what one model has learned on another dataset for our own dataset."
      ],
      "metadata": {
        "id": "Y9xXAcOWR44P"
      }
    },
    {
      "cell_type": "markdown",
      "source": [
        "How do the loss curves looks like ?"
      ],
      "metadata": {
        "id": "Uk_-pbEaSSVb"
      }
    },
    {
      "cell_type": "code",
      "source": [
        "plot_loss_curves(history_all_classes_10_percent)"
      ],
      "metadata": {
        "colab": {
          "base_uri": "https://localhost:8080/",
          "height": 541
        },
        "id": "XJQdsWuiSVtG",
        "outputId": "f1059dc4-c630-4921-9a15-4acc08815d44"
      },
      "execution_count": 19,
      "outputs": [
        {
          "output_type": "display_data",
          "data": {
            "text/plain": [
              "<Figure size 432x288 with 1 Axes>"
            ],
            "image/png": "[encoded data removed]"
          },
          "metadata": {
            "needs_background": "light"
          }
        },
        {
          "output_type": "display_data",
          "data": {
            "text/plain": [
              "<Figure size 432x288 with 1 Axes>"
            ],
            "image/png": "[encoded data removed]"
          },
          "metadata": {
            "needs_background": "light"
          }
        }
      ]
    },
    {
      "cell_type": "markdown",
      "source": [
        "## Fine-Tuning"
      ],
      "metadata": {
        "id": "x4ngm3HoSdBt"
      }
    }
  ]
}