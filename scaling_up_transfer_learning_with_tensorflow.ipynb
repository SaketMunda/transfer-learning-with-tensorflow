{
  "nbformat": 4,
  "nbformat_minor": 0,
  "metadata": {
    "colab": {
      "provenance": [],
      "toc_visible": true,
      "mount_file_id": "1kRDXC7vFPli_puJcpiE1kRPGTjnHLHOm",
      "authorship_tag": "ABX9TyPqlJ9CMxibZ3gid4wc32jW",
      "include_colab_link": true
    },
    "kernelspec": {
      "name": "python3",
      "display_name": "Python 3"
    },
    "language_info": {
      "name": "python"
    },
    "accelerator": "GPU",
    "gpuClass": "standard"
  },
  "cells": [
    {
      "cell_type": "markdown",
      "metadata": {
        "id": "view-in-github",
        "colab_type": "text"
      },
      "source": [
        "<a href=\"https://colab.research.google.com/github/SaketMunda/transfer-learning-with-tensorflow/blob/master/scaling_up_transfer_learning_with_tensorflow.ipynb\" target=\"_parent\"><img src=\"https://colab.research.google.com/assets/colab-badge.svg\" alt=\"Open In Colab\"/></a>"
      ]
    },
    {
      "cell_type": "markdown",
      "source": [
        "# Scaling Up Food Vision 101 using Transfer Learning with TensorFlow\n",
        "\n",
        "We're going to move forward with Food Vision 101 dataset and scale up with all the classes(previously we did with 10 classes) in Food101 dataset and build a Food Vision Mini."
      ],
      "metadata": {
        "id": "PqZgMgJPGved"
      }
    },
    {
      "cell_type": "code",
      "source": [
        "# Are we using a gpu ?\n",
        "!nvidia-smi"
      ],
      "metadata": {
        "colab": {
          "base_uri": "https://localhost:8080/"
        },
        "id": "bNZwhV1UIgBn",
        "outputId": "dac282ff-7385-4553-a0d7-86013280613a"
      },
      "execution_count": null,
      "outputs": [
        {
          "output_type": "stream",
          "name": "stdout",
          "text": [
            "Thu Jan  5 04:49:14 2023       \n",
            "+-----------------------------------------------------------------------------+\n",
            "| NVIDIA-SMI 460.32.03    Driver Version: 460.32.03    CUDA Version: 11.2     |\n",
            "|-------------------------------+----------------------+----------------------+\n",
            "| GPU  Name        Persistence-M| Bus-Id        Disp.A | Volatile Uncorr. ECC |\n",
            "| Fan  Temp  Perf  Pwr:Usage/Cap|         Memory-Usage | GPU-Util  Compute M. |\n",
            "|                               |                      |               MIG M. |\n",
            "|===============================+======================+======================|\n",
            "|   0  Tesla T4            Off  | 00000000:00:04.0 Off |                    0 |\n",
            "| N/A   72C    P0    31W /  70W |      0MiB / 15109MiB |      0%      Default |\n",
            "|                               |                      |                  N/A |\n",
            "+-------------------------------+----------------------+----------------------+\n",
            "                                                                               \n",
            "+-----------------------------------------------------------------------------+\n",
            "| Processes:                                                                  |\n",
            "|  GPU   GI   CI        PID   Type   Process name                  GPU Memory |\n",
            "|        ID   ID                                                   Usage      |\n",
            "|=============================================================================|\n",
            "|  No running processes found                                                 |\n",
            "+-----------------------------------------------------------------------------+\n"
          ]
        }
      ]
    },
    {
      "cell_type": "markdown",
      "source": [
        "Tesla T4 GPU we are using."
      ],
      "metadata": {
        "id": "k7_vSB9zIjUS"
      }
    },
    {
      "cell_type": "markdown",
      "source": [
        "## Load 10% of Food101 Dataset\n",
        "\n",
        "In the original Food101 dataset, there's 1000 images per class (750 of each class in the training set and 250 of each class in the test set), totalling 101,000 images.\n",
        "\n",
        "We could start modelling straight away on this large dataset but in the spirit of continually experimenting, we're going to see how our previously working model's go with 10% of the training data.\n",
        "\n",
        "This means for each of the 101 food classes we'll be building a model on 75 training images and evaluating it on 250 test images."
      ],
      "metadata": {
        "id": "FPvwugP8In1h"
      }
    },
    {
      "cell_type": "code",
      "source": [
        "# Download the helper function\n",
        "!wget https://raw.githubusercontent.com/SaketMunda/ml-helpers/master/helper_functions.py\n",
        "\n",
        "# Import functions from helper_functions.py\n",
        "from helper_functions import unzip_data, walk_through_dir, create_tensorboard_callback, plot_loss_curves"
      ],
      "metadata": {
        "colab": {
          "base_uri": "https://localhost:8080/"
        },
        "id": "b2Z0wdvmItpZ",
        "outputId": "ee826f06-c658-45f5-e595-5e1cbcffe27e"
      },
      "execution_count": 1,
      "outputs": [
        {
          "output_type": "stream",
          "name": "stdout",
          "text": [
            "--2023-01-06 04:57:24--  https://raw.githubusercontent.com/SaketMunda/ml-helpers/master/helper_functions.py\n",
            "Resolving raw.githubusercontent.com (raw.githubusercontent.com)... 185.199.108.133, 185.199.109.133, 185.199.110.133, ...\n",
            "Connecting to raw.githubusercontent.com (raw.githubusercontent.com)|185.199.108.133|:443... connected.\n",
            "HTTP request sent, awaiting response... 200 OK\n",
            "Length: 2904 (2.8K) [text/plain]\n",
            "Saving to: ‘helper_functions.py’\n",
            "\n",
            "helper_functions.py 100%[===================>]   2.84K  --.-KB/s    in 0s      \n",
            "\n",
            "2023-01-06 04:57:24 (47.1 MB/s) - ‘helper_functions.py’ saved [2904/2904]\n",
            "\n"
          ]
        }
      ]
    },
    {
      "cell_type": "code",
      "source": [
        "# Download Zipfile of Food101 Dataset\n",
        "!wget https://storage.googleapis.com/ztm_tf_course/food_vision/101_food_classes_10_percent.zip \n",
        "\n",
        "# Unzip the file\n",
        "unzip_data('101_food_classes_10_percent.zip')\n",
        "\n",
        "# walking through the directory\n",
        "# walk_through_dir('101_food_classes_10_percent')"
      ],
      "metadata": {
        "colab": {
          "base_uri": "https://localhost:8080/"
        },
        "id": "yiFoUK6iJFN0",
        "outputId": "1b0070a4-f2f8-4b54-e34b-9ac431640093"
      },
      "execution_count": 2,
      "outputs": [
        {
          "output_type": "stream",
          "name": "stdout",
          "text": [
            "--2023-01-06 04:57:56--  https://storage.googleapis.com/ztm_tf_course/food_vision/101_food_classes_10_percent.zip\n",
            "Resolving storage.googleapis.com (storage.googleapis.com)... 74.125.24.128, 142.250.4.128, 142.251.10.128, ...\n",
            "Connecting to storage.googleapis.com (storage.googleapis.com)|74.125.24.128|:443... connected.\n",
            "HTTP request sent, awaiting response... 200 OK\n",
            "Length: 1625420029 (1.5G) [application/zip]\n",
            "Saving to: ‘101_food_classes_10_percent.zip’\n",
            "\n",
            "101_food_classes_10 100%[===================>]   1.51G  22.9MB/s    in 68s     \n",
            "\n",
            "2023-01-06 04:59:04 (22.9 MB/s) - ‘101_food_classes_10_percent.zip’ saved [1625420029/1625420029]\n",
            "\n"
          ]
        }
      ]
    },
    {
      "cell_type": "markdown",
      "source": [
        "## Preprocess the Loaded Data (10%)\n",
        "\n",
        "We can preprocess using `image_dataset_from_directory` function to turn our images and labels into a `tf.data.Dataset`, a tensorflow datatype which allows us to pass it directory to our model."
      ],
      "metadata": {
        "id": "9U4nPYlIKU0H"
      }
    },
    {
      "cell_type": "code",
      "source": [
        "# Setup data inputs\n",
        "import tensorflow as tf\n",
        "IMG_SHAPE = (224, 224)\n",
        "BATCH_SIZE = 32\n",
        "\n",
        "train_dir = '101_food_classes_10_percent/train/'\n",
        "test_dir = '101_food_classes_10_percent/test/'\n",
        "\n",
        "train_data_all_10_percent = tf.keras.preprocessing.image_dataset_from_directory(train_dir,\n",
        "                                                                                label_mode='categorical',\n",
        "                                                                                batch_size=BATCH_SIZE,\n",
        "                                                                                image_size=IMG_SHAPE)\n",
        "test_data = tf.keras.preprocessing.image_dataset_from_directory(test_dir,\n",
        "                                                                label_mode='categorical',\n",
        "                                                                image_size=IMG_SHAPE,\n",
        "                                                                batch_size=BATCH_SIZE,\n",
        "                                                                shuffle=False)# don't shuffle test data for prediction analysis"
      ],
      "metadata": {
        "colab": {
          "base_uri": "https://localhost:8080/"
        },
        "id": "WCX9CDsOK2uK",
        "outputId": "b965b951-290c-48fe-8e5b-617357fee388"
      },
      "execution_count": 3,
      "outputs": [
        {
          "output_type": "stream",
          "name": "stdout",
          "text": [
            "Found 7575 files belonging to 101 classes.\n",
            "Found 25250 files belonging to 101 classes.\n"
          ]
        }
      ]
    },
    {
      "cell_type": "markdown",
      "source": [
        "It looks like our training dataset contain, 75 images per class (101 classes) and test dataset contain, 250 images per class from 101 classes."
      ],
      "metadata": {
        "id": "uiLIH-9wLjpq"
      }
    },
    {
      "cell_type": "markdown",
      "source": [
        "## Train a transfer learning Model on 10% of 101 food classes\n",
        "\n",
        "We're going to start by using feature extraction transfer learning with a pre-trained model for a few epochs and then fine-tune for a few more epochs.\n",
        "\n",
        "Our modelling setup will be:\n",
        "- A ModelCheckpoint callback to save our progress during training, this means we could experiment further training later without having to train from scratch every time.\n",
        "- Data Augmentation built right into the model\n",
        "- A headless(no top layers) EfficientNetB0 architecture from `tf.keras.applications` as our base model\n",
        "- A `Dense` layer with 101 hidden neurons (same as the number of food classes) and softmax activation as the output layer\n",
        "- Categorical Crossentropy as the loss function since we're dealing with more than two classes\n",
        "- The Adam optimizer with the default settings\n",
        "- Fitting for full 5 passes on the training data while evaluating 15% of the test data.\n"
      ],
      "metadata": {
        "id": "Ge1XzcTXL0kl"
      }
    },
    {
      "cell_type": "code",
      "source": [
        "# Start with creating a ModelCheckpoint\n",
        "checkpoint_path = '101_classes_10_percent_data_model_checkpoint'\n",
        "\n",
        "modelcheckpoint_callback = tf.keras.callbacks.ModelCheckpoint(checkpoint_path,\n",
        "                                                              save_best_only=True, # save the best model weights on file (delete the rest)\n",
        "                                                              save_weights_only=True, # save weights only\n",
        "                                                              monitor='val_accuracy') # save the model weights which score the best validation accuracy"
      ],
      "metadata": {
        "id": "yucNgp7vNJfu"
      },
      "execution_count": null,
      "outputs": []
    },
    {
      "cell_type": "code",
      "source": [
        "# data augmentation layer\n",
        "from tensorflow.keras import layers\n",
        "from tensorflow.keras.models import Sequential\n",
        "from tensorflow.keras.layers.experimental import preprocessing\n",
        "\n",
        "data_augmentation = Sequential([\n",
        "    preprocessing.RandomFlip('horizontal'),\n",
        "    preprocessing.RandomHeight(0.2),\n",
        "    preprocessing.RandomWidth(0.2),\n",
        "    preprocessing.RandomZoom(0.2),\n",
        "    preprocessing.RandomRotation(0.2),\n",
        "    #preprocessing.Rescaling(1/255.) keep for models like ResNet50\n",
        "])"
      ],
      "metadata": {
        "id": "9pBPoU5DN0Cs"
      },
      "execution_count": null,
      "outputs": []
    },
    {
      "cell_type": "code",
      "source": [
        "# Create the base_model\n",
        "base_model = tf.keras.applications.EfficientNetB0(include_top=False) # so that we can add our own output layers\n",
        "base_model.trainable=False\n",
        "\n",
        "# Setup the model architecture with trainable top layers\n",
        "inputs = layers.Input(shape=IMG_SHAPE+(3,), name='input_layer') # shape of input layer\n",
        "x = data_augmentation(inputs) # augment images (only happens during training)\n",
        "x = base_model(x, training=False) # put the base_model in inference mode so we can use it to extract features without updating weights\n",
        "x = layers.GlobalAveragePooling2D(name='global_average_pooling')(x) # pool the outputs of the basemodel and learn only the important features\n",
        "outputs = layers.Dense(len(train_data_all_10_percent.class_names), activation='softmax', name='output_layer')(x)\n",
        "model = tf.keras.Model(inputs, outputs)"
      ],
      "metadata": {
        "colab": {
          "base_uri": "https://localhost:8080/"
        },
        "id": "bO9gQqxNOHxy",
        "outputId": "b9fa1337-1d37-4362-9058-6e29d49d3e00"
      },
      "execution_count": null,
      "outputs": [
        {
          "output_type": "stream",
          "name": "stdout",
          "text": [
            "Downloading data from https://storage.googleapis.com/keras-applications/efficientnetb0_notop.h5\n",
            "16705208/16705208 [==============================] - 0s 0us/step\n"
          ]
        }
      ]
    },
    {
      "cell_type": "markdown",
      "source": [
        "Model is created, let's inspect it."
      ],
      "metadata": {
        "id": "4u9SpR5BQzpI"
      }
    },
    {
      "cell_type": "code",
      "source": [
        "model.summary()"
      ],
      "metadata": {
        "colab": {
          "base_uri": "https://localhost:8080/"
        },
        "id": "ZzYLcPinQ5Q_",
        "outputId": "df9ad52a-071a-4d86-bfeb-b81266017ba0"
      },
      "execution_count": null,
      "outputs": [
        {
          "output_type": "stream",
          "name": "stdout",
          "text": [
            "Model: \"model\"\n",
            "_________________________________________________________________\n",
            " Layer (type)                Output Shape              Param #   \n",
            "=================================================================\n",
            " input_layer (InputLayer)    [(None, 224, 224, 3)]     0         \n",
            "                                                                 \n",
            " sequential (Sequential)     (None, 224, 224, 3)       0         \n",
            "                                                                 \n",
            " efficientnetb0 (Functional)  (None, None, None, 1280)  4049571  \n",
            "                                                                 \n",
            " global_average_pooling (Glo  (None, 1280)             0         \n",
            " balAveragePooling2D)                                            \n",
            "                                                                 \n",
            " output_layer (Dense)        (None, 101)               129381    \n",
            "                                                                 \n",
            "=================================================================\n",
            "Total params: 4,178,952\n",
            "Trainable params: 129,381\n",
            "Non-trainable params: 4,049,571\n",
            "_________________________________________________________________\n"
          ]
        }
      ]
    },
    {
      "cell_type": "markdown",
      "source": [
        "Our functional model has 5 layers but each of those layers have varying amounts of layers within them."
      ],
      "metadata": {
        "id": "gFRkLfjUQ642"
      }
    },
    {
      "cell_type": "markdown",
      "source": [
        "Time to compile and fit."
      ],
      "metadata": {
        "id": "UV5woNMZRKs1"
      }
    },
    {
      "cell_type": "code",
      "source": [
        "model.compile(loss='categorical_crossentropy',\n",
        "              optimizer='Adam',\n",
        "              metrics=['accuracy'])\n",
        "\n",
        "# fit the model\n",
        "initial_epoch = 5\n",
        "\n",
        "history_all_classes_10_percent = model.fit(train_data_all_10_percent,\n",
        "                                           epochs=initial_epoch,\n",
        "                                           validation_data=test_data,\n",
        "                                           validation_steps=int(0.15 * len(test_data)),\n",
        "                                           callbacks=[modelcheckpoint_callback])"
      ],
      "metadata": {
        "colab": {
          "base_uri": "https://localhost:8080/"
        },
        "id": "UPoyJNRnRMb4",
        "outputId": "9e9a8eac-275e-4ee0-bf7c-54114ded02ad"
      },
      "execution_count": null,
      "outputs": [
        {
          "output_type": "stream",
          "name": "stdout",
          "text": [
            "Epoch 1/5\n",
            "237/237 [==============================] - 100s 354ms/step - loss: 3.3738 - accuracy: 0.2746 - val_loss: 2.4644 - val_accuracy: 0.4611\n",
            "Epoch 2/5\n",
            "237/237 [==============================] - 65s 272ms/step - loss: 2.2155 - accuracy: 0.5001 - val_loss: 2.0518 - val_accuracy: 0.5082\n",
            "Epoch 3/5\n",
            "237/237 [==============================] - 61s 257ms/step - loss: 1.8443 - accuracy: 0.5620 - val_loss: 1.8887 - val_accuracy: 0.5257\n",
            "Epoch 4/5\n",
            "237/237 [==============================] - 58s 242ms/step - loss: 1.6157 - accuracy: 0.6038 - val_loss: 1.8117 - val_accuracy: 0.5334\n",
            "Epoch 5/5\n",
            "237/237 [==============================] - 52s 219ms/step - loss: 1.4833 - accuracy: 0.6331 - val_loss: 1.7349 - val_accuracy: 0.5495\n"
          ]
        }
      ]
    },
    {
      "cell_type": "markdown",
      "source": [
        "Evaluate the model on full test dataset"
      ],
      "metadata": {
        "id": "URqnBhIrRq_P"
      }
    },
    {
      "cell_type": "code",
      "source": [
        "results_feature_extraction_model = model.evaluate(test_data)\n",
        "results_feature_extraction_model"
      ],
      "metadata": {
        "colab": {
          "base_uri": "https://localhost:8080/"
        },
        "id": "yLlEgV3SRxi-",
        "outputId": "426c4441-37c0-41a3-dca6-99df4154065e"
      },
      "execution_count": null,
      "outputs": [
        {
          "output_type": "stream",
          "name": "stdout",
          "text": [
            "790/790 [==============================] - 58s 73ms/step - loss: 1.5829 - accuracy: 0.5818\n"
          ]
        },
        {
          "output_type": "execute_result",
          "data": {
            "text/plain": [
              "[1.5828856229782104, 0.5817821621894836]"
            ]
          },
          "metadata": {},
          "execution_count": 11
        }
      ]
    },
    {
      "cell_type": "markdown",
      "source": [
        "Well it looks like **we just beat our baseline (the results from the original Food101 paper) with 10% of the data** In under 5-minutes... that's the power of deep learning and more precisely transfer learning: leveraging what one model has learned on another dataset for our own dataset."
      ],
      "metadata": {
        "id": "Y9xXAcOWR44P"
      }
    },
    {
      "cell_type": "markdown",
      "source": [
        "How do the loss curves looks like ?"
      ],
      "metadata": {
        "id": "Uk_-pbEaSSVb"
      }
    },
    {
      "cell_type": "code",
      "source": [
        "plot_loss_curves(history_all_classes_10_percent)"
      ],
      "metadata": {
        "colab": {
          "base_uri": "https://localhost:8080/",
          "height": 545
        },
        "id": "XJQdsWuiSVtG",
        "outputId": "777ab7fd-306d-4b5d-e7b2-a2065090197e"
      },
      "execution_count": null,
      "outputs": [
        {
          "output_type": "display_data",
          "data": {
            "text/plain": [
              "<Figure size 432x288 with 1 Axes>"
            ],
            "image/png": "[encoded data removed]"
          },
          "metadata": {
            "needs_background": "light"
          }
        },
        {
          "output_type": "display_data",
          "data": {
            "text/plain": [
              "<Figure size 432x288 with 1 Axes>"
            ],
            "image/png": "[encoded data removed]"
          },
          "metadata": {
            "needs_background": "light"
          }
        }
      ]
    },
    {
      "cell_type": "markdown",
      "source": [
        "## Fine-Tuning\n",
        "\n",
        "Our feature extraction transfer model is performing well. Why don't we try to fine-tune a few layers in the base model and see if we gain any improvements ?\n",
        "\n",
        "The good news is, thanks to `ModelCheckpoint` callback, we've got the saved weights of our already well-performing model so if fine-tuning doesn't add any benefits, we can revert back.\n",
        "\n",
        "To fine-tune the base model we'll first set its `trainable` attribute `True`, unfreezing all of the frozen.\n",
        "\n",
        "Then since we've got a relatively small training dataset, we'll refreeze every layer except for the last 5, making them trainable.\n",
        "\n"
      ],
      "metadata": {
        "id": "x4ngm3HoSdBt"
      }
    },
    {
      "cell_type": "code",
      "source": [
        "# unfreeze all the layers in the base model\n",
        "base_model.trainable = True\n",
        "\n",
        "# Refreeze every layer except the last 5 layers\n",
        "for layer in base_model.layers[:-5]:\n",
        "  layer.trainable = False"
      ],
      "metadata": {
        "id": "bnDhrE1PTp7n"
      },
      "execution_count": null,
      "outputs": []
    },
    {
      "cell_type": "markdown",
      "source": [
        "Since we have make the last 5 layers which is closer to our output layer, and the layers which are closer to output layer will try to learn the larger and high-level patterns or weights from our own dataset of images.\n",
        "\n",
        "Now we have to re-compile the model.\n",
        "\n",
        "Because we're fine-tuning, we'll use a 10x lower learning rate to ensure the updates to the previous trained weights aren't too large."
      ],
      "metadata": {
        "id": "UJWxUoNqT623"
      }
    },
    {
      "cell_type": "code",
      "source": [
        "# Recompile model with lower learning rate\n",
        "model.compile(loss='categorical_crossentropy',\n",
        "              optimizer=tf.keras.optimizers.Adam(learning_rate=0.0001),\n",
        "              metrics=['accuracy'])\n",
        "\n",
        "# Fit or train for another 5 epochs\n",
        "fine_tune_epochs = initial_epoch + 5\n",
        "\n",
        "# fit the model\n",
        "history_all_classes_10_percent_fine_tune = model.fit(train_data_all_10_percent,\n",
        "                                             epochs=fine_tune_epochs,\n",
        "                                             validation_data=test_data,\n",
        "                                             validation_steps=int(0.15 * len(test_data)),\n",
        "                                             initial_epoch=history_all_classes_10_percent.epoch[-1])"
      ],
      "metadata": {
        "colab": {
          "base_uri": "https://localhost:8080/"
        },
        "id": "oTecnP9HUp5M",
        "outputId": "402eb8ac-2a75-43ae-e7ad-3c747ca85d4d"
      },
      "execution_count": null,
      "outputs": [
        {
          "output_type": "stream",
          "name": "stdout",
          "text": [
            "Epoch 5/10\n",
            "237/237 [==============================] - 60s 222ms/step - loss: 1.2341 - accuracy: 0.6829 - val_loss: 1.7346 - val_accuracy: 0.5434\n",
            "Epoch 6/10\n",
            "237/237 [==============================] - 49s 205ms/step - loss: 1.1296 - accuracy: 0.7003 - val_loss: 1.7804 - val_accuracy: 0.5358\n",
            "Epoch 7/10\n",
            "237/237 [==============================] - 48s 202ms/step - loss: 1.0430 - accuracy: 0.7189 - val_loss: 1.7103 - val_accuracy: 0.5559\n",
            "Epoch 8/10\n",
            "237/237 [==============================] - 53s 220ms/step - loss: 0.9827 - accuracy: 0.7373 - val_loss: 1.7750 - val_accuracy: 0.5376\n",
            "Epoch 9/10\n",
            "237/237 [==============================] - 46s 190ms/step - loss: 0.9129 - accuracy: 0.7560 - val_loss: 1.7626 - val_accuracy: 0.5413\n",
            "Epoch 10/10\n",
            "237/237 [==============================] - 44s 183ms/step - loss: 0.8737 - accuracy: 0.7661 - val_loss: 1.7698 - val_accuracy: 0.5424\n"
          ]
        }
      ]
    },
    {
      "cell_type": "code",
      "source": [
        "# Evaluate the fine-tuned model with all the test dataset\n",
        "results_fine_tune_model = model.evaluate(test_data)\n",
        "results_fine_tune_model"
      ],
      "metadata": {
        "colab": {
          "base_uri": "https://localhost:8080/"
        },
        "id": "UViX63I0Vb43",
        "outputId": "1c4c16dd-f3e9-4245-fb81-775d9fd48095"
      },
      "execution_count": null,
      "outputs": [
        {
          "output_type": "stream",
          "name": "stdout",
          "text": [
            "790/790 [==============================] - 58s 73ms/step - loss: 1.4979 - accuracy: 0.6034\n"
          ]
        },
        {
          "output_type": "execute_result",
          "data": {
            "text/plain": [
              "[1.4979487657546997, 0.6034455299377441]"
            ]
          },
          "metadata": {},
          "execution_count": 16
        }
      ]
    },
    {
      "cell_type": "markdown",
      "source": [
        "We might get a better picture by comparing the histories of both the trained models,"
      ],
      "metadata": {
        "id": "AQnceyhxZFSI"
      }
    },
    {
      "cell_type": "code",
      "source": [
        "import matplotlib.pyplot as plt\n",
        "\n",
        "original_history = history_all_classes_10_percent\n",
        "new_history = history_all_classes_10_percent_fine_tune\n",
        "\n",
        "\n",
        "# get the original history measurement\n",
        "acc = original_history.history['accuracy']\n",
        "loss = original_history.history['loss']\n",
        "\n",
        "val_acc = original_history.history['val_accuracy']\n",
        "val_loss = original_history.history['val_loss']\n",
        "\n",
        "# combine original history with new history\n",
        "total_acc = acc + new_history.history['accuracy']\n",
        "total_loss = loss + new_history.history['loss']\n",
        "\n",
        "total_val_acc = val_acc + new_history.history['val_accuracy']\n",
        "total_val_loss = val_loss + new_history.history['val_loss']\n",
        "\n",
        "\n",
        "#epochs = range(0, original_history.epoch + new_history.epoch)\n",
        "# Make plot for accuracy\n",
        "plt.figure(figsize=(8, 8))\n",
        "plt.subplot(2,1,1)\n",
        "plt.title('Training and Validation Accuracy')\n",
        "plt.plot(total_acc, label='Training Accuracy')\n",
        "plt.plot(total_val_acc, label=\"Validation Accuracy\")\n",
        "plt.plot([initial_epoch-1, initial_epoch-1], plt.ylim(), label='Start Fine Tuning')\n",
        "plt.legend(loc='lower right')\n",
        "\n",
        "# Make plot for loss\n",
        "plt.subplot(2,1,2)\n",
        "plt.title('Training and Validation Loss')\n",
        "plt.plot(total_loss, label='Training Loss')\n",
        "plt.plot(total_val_loss, label='Validation Loss')\n",
        "plt.plot([initial_epoch-1, initial_epoch-1], plt.ylim(), label='Start Fine Tuning')\n",
        "plt.legend(loc='upper right')\n",
        "plt.xlabel('epoch');"
      ],
      "metadata": {
        "colab": {
          "base_uri": "https://localhost:8080/",
          "height": 513
        },
        "id": "kKI3JaCkZO5h",
        "outputId": "5b4dc85e-1e82-42c5-9db8-c7552ad86a93"
      },
      "execution_count": null,
      "outputs": [
        {
          "output_type": "display_data",
          "data": {
            "text/plain": [
              "<Figure size 576x576 with 2 Axes>"
            ],
            "image/png": "[encoded data removed]"
          },
          "metadata": {
            "needs_background": "light"
          }
        }
      ]
    },
    {
      "cell_type": "markdown",
      "source": [
        "It seems that after fine-tuning our validation loss and accuracy doesn't get benefited and model is starting to overfit.\n",
        "\n",
        "If feature extraction results already were well, the improvements you see from fine-tuning may not be great as if your dataset was significantly different from the data your base model was pre-trained on."
      ],
      "metadata": {
        "id": "d5x9X7rLdWCg"
      }
    },
    {
      "cell_type": "markdown",
      "source": [
        "## Save our Trained Model\n",
        "\n",
        "To prevent having to retrain our model from scratch, let's save it to file using the `save()` method"
      ],
      "metadata": {
        "id": "nuDRleyzV6fq"
      }
    },
    {
      "cell_type": "code",
      "source": [
        "model.save('drive/MyDrive/Data Science/101_food_class_10_percent_saved_big_dog_model')"
      ],
      "metadata": {
        "colab": {
          "base_uri": "https://localhost:8080/"
        },
        "id": "UzOsTiP2WN-4",
        "outputId": "3d5814b3-266d-40c5-ae19-481e9e471b82"
      },
      "execution_count": null,
      "outputs": [
        {
          "output_type": "stream",
          "name": "stderr",
          "text": [
            "WARNING:absl:Found untraced functions such as _jit_compiled_convolution_op, _jit_compiled_convolution_op, _jit_compiled_convolution_op, _jit_compiled_convolution_op, _jit_compiled_convolution_op while saving (showing 5 of 81). These functions will not be directly callable after loading.\n"
          ]
        }
      ]
    },
    {
      "cell_type": "markdown",
      "source": [
        "## Evaluating the performance of the big dog model across all different classes\n",
        "\n",
        "We've got our model trained and saved and also according to the evaluation metrics we've used is performing fairly well.\n",
        "\n",
        "But metrics schmetrics, let's deep dive a little into our model's performance and get some visualizations going.\n",
        "\n",
        "> **Note**: Evaluating a machine learning model is as important as training one. Metrics can be deceiving. You should always visualize your model's performance on unseen data to make sure you aren't being fooled by good looking training numbers."
      ],
      "metadata": {
        "id": "H0xveydWX1vN"
      }
    },
    {
      "cell_type": "code",
      "source": [
        "import tensorflow as tf\n",
        "\n",
        "# Download the whole data\n",
        "!wget https://storage.googleapis.com/ztm_tf_course/food_vision/06_101_food_class_10_percent_saved_big_dog_model.zip\n",
        "\n",
        "unzip_data('06_101_food_class_10_percent_saved_big_dog_model.zip')\n",
        "\n",
        "# Load the trained model\n",
        "model = tf.keras.models.load_model('drive/MyDrive/Data Science/101_food_class_10_percent_saved_big_dog_model')"
      ],
      "metadata": {
        "colab": {
          "base_uri": "https://localhost:8080/"
        },
        "id": "pe1Yp1vfYsir",
        "outputId": "c8a0f625-6ba3-42b8-cd5a-b98dfe3477d9"
      },
      "execution_count": 4,
      "outputs": [
        {
          "output_type": "stream",
          "name": "stdout",
          "text": [
            "--2023-01-06 04:59:22--  https://storage.googleapis.com/ztm_tf_course/food_vision/06_101_food_class_10_percent_saved_big_dog_model.zip\n",
            "Resolving storage.googleapis.com (storage.googleapis.com)... 142.250.4.128, 142.251.10.128, 142.251.12.128, ...\n",
            "Connecting to storage.googleapis.com (storage.googleapis.com)|142.250.4.128|:443... connected.\n",
            "HTTP request sent, awaiting response... 200 OK\n",
            "Length: 46760742 (45M) [application/zip]\n",
            "Saving to: ‘06_101_food_class_10_percent_saved_big_dog_model.zip’\n",
            "\n",
            "06_101_food_class_1 100%[===================>]  44.59M  13.0MB/s    in 3.4s    \n",
            "\n",
            "2023-01-06 04:59:25 (13.0 MB/s) - ‘06_101_food_class_10_percent_saved_big_dog_model.zip’ saved [46760742/46760742]\n",
            "\n"
          ]
        }
      ]
    },
    {
      "cell_type": "markdown",
      "source": [
        "To make sure our loaded model is indeed a trained model, let's evaluate its performance on the test dataset,"
      ],
      "metadata": {
        "id": "rFYeW6Jyeal2"
      }
    },
    {
      "cell_type": "code",
      "source": [
        "loaded_loss, loaded_accuracy = model.evaluate(test_data)\n",
        "\n",
        "loaded_loss, loaded_accuracy"
      ],
      "metadata": {
        "colab": {
          "base_uri": "https://localhost:8080/"
        },
        "id": "Rh0tVZjqejVy",
        "outputId": "c263723f-ec67-45e3-ec23-6d7143d5aa1b"
      },
      "execution_count": 5,
      "outputs": [
        {
          "output_type": "stream",
          "name": "stdout",
          "text": [
            "790/790 [==============================] - 70s 77ms/step - loss: 1.4979 - accuracy: 0.6034\n"
          ]
        },
        {
          "output_type": "execute_result",
          "data": {
            "text/plain": [
              "(1.4979486465454102, 0.6034455299377441)"
            ]
          },
          "metadata": {},
          "execution_count": 5
        }
      ]
    },
    {
      "cell_type": "markdown",
      "source": [
        "Alright ! It seems that our trained model is loaded as it was saved."
      ],
      "metadata": {
        "id": "l0GOCoC5eu_k"
      }
    },
    {
      "cell_type": "markdown",
      "source": [
        "### Make predictions with our trained model\n",
        "\n",
        "To evaluate our trained model, we need to make some predictions with it and then compare those predictions to the test dataset.\n",
        "\n",
        "Because the model has never seen the test dataset, this should give us some indication of how the model will perform in the real world data to what it has been trained for."
      ],
      "metadata": {
        "id": "H7mBLe757UBu"
      }
    },
    {
      "cell_type": "code",
      "source": [
        "# Make prediction on test dataset\n",
        "pred_probs = model.predict(test_data, verbose=1)"
      ],
      "metadata": {
        "colab": {
          "base_uri": "https://localhost:8080/"
        },
        "id": "Oao4SO2g76Qt",
        "outputId": "4b987408-2101-48e9-e21b-fd58446e3faa"
      },
      "execution_count": 6,
      "outputs": [
        {
          "output_type": "stream",
          "name": "stdout",
          "text": [
            "790/790 [==============================] - 63s 79ms/step\n"
          ]
        }
      ]
    },
    {
      "cell_type": "markdown",
      "source": [
        "We just passed all of the test images to the model to predict.\n",
        "\n",
        "So if we had just passed 25250 images to predict, then the model should return the same number of prediction of each image in form of tensors of probabilities."
      ],
      "metadata": {
        "id": "9Ayygll08B3w"
      }
    },
    {
      "cell_type": "code",
      "source": [
        "len(pred_probs)"
      ],
      "metadata": {
        "colab": {
          "base_uri": "https://localhost:8080/"
        },
        "id": "Bh08tF7S8Zqw",
        "outputId": "572f2993-f021-4aa7-cfff-33db948e9868"
      },
      "execution_count": null,
      "outputs": [
        {
          "output_type": "execute_result",
          "data": {
            "text/plain": [
              "25250"
            ]
          },
          "metadata": {},
          "execution_count": 8
        }
      ]
    },
    {
      "cell_type": "markdown",
      "source": [
        "And if each image could be one of 101 classes, then in `pred_probs` each index must have 101 probabilities of each class."
      ],
      "metadata": {
        "id": "BFix0IdK8xbT"
      }
    },
    {
      "cell_type": "code",
      "source": [
        "pred_probs[0].shape, pred_probs.shape"
      ],
      "metadata": {
        "colab": {
          "base_uri": "https://localhost:8080/"
        },
        "id": "BMj8xTUF9MpQ",
        "outputId": "db94eb33-09c6-448b-d5ae-12468ed100fb"
      },
      "execution_count": null,
      "outputs": [
        {
          "output_type": "execute_result",
          "data": {
            "text/plain": [
              "((101,), (25250, 101))"
            ]
          },
          "metadata": {},
          "execution_count": 10
        }
      ]
    },
    {
      "cell_type": "markdown",
      "source": [
        "What we've got if often referred to as a **predictions probability tensor**(or an array)\n",
        "\n",
        "Let's see what the first 2 looks like,"
      ],
      "metadata": {
        "id": "N5UYi5HH9PK8"
      }
    },
    {
      "cell_type": "code",
      "source": [
        "pred_probs[:2]"
      ],
      "metadata": {
        "colab": {
          "base_uri": "https://localhost:8080/"
        },
        "id": "tJnJRmb09fcB",
        "outputId": "7eec19da-a6aa-452b-f7b9-fa5ce6ad242a"
      },
      "execution_count": null,
      "outputs": [
        {
          "output_type": "execute_result",
          "data": {
            "text/plain": [
              "array([[3.32878113e-01, 2.42559487e-04, 1.00782856e-01, 1.10265802e-07,\n",
              "        3.35489995e-06, 2.51639176e-06, 8.94802433e-05, 5.30661555e-06,\n",
              "        5.56094348e-02, 3.51617462e-04, 3.75587638e-06, 8.00699854e-06,\n",
              "        5.59849490e-04, 6.53181530e-07, 2.81937071e-03, 1.24338525e-03,\n",
              "        3.17674458e-05, 5.37165441e-04, 6.61070505e-03, 2.91172710e-05,\n",
              "        1.19574624e-03, 7.37397249e-06, 2.59085529e-04, 2.09261532e-04,\n",
              "        7.11215485e-04, 2.11614091e-03, 7.72598956e-04, 8.75981641e-06,\n",
              "        8.56867507e-02, 5.34575246e-03, 6.94469554e-06, 1.69773877e-03,\n",
              "        5.68129763e-04, 4.97878455e-06, 1.14152944e-02, 2.96349072e-06,\n",
              "        6.36621699e-05, 1.14167586e-03, 2.73771062e-02, 7.34940404e-05,\n",
              "        1.15268840e-03, 6.19139615e-03, 2.75978498e-04, 7.74565633e-05,\n",
              "        1.19418546e-04, 2.52792415e-05, 7.44113699e-04, 5.53218357e-04,\n",
              "        3.09097891e-06, 9.81824696e-02, 2.56598316e-04, 1.79987284e-04,\n",
              "        4.82282080e-02, 2.54738797e-02, 5.94394623e-05, 1.71114821e-02,\n",
              "        1.12789031e-02, 2.10468099e-03, 3.98416398e-03, 8.51348159e-05,\n",
              "        1.44565433e-06, 6.79299561e-03, 1.23146223e-02, 7.94233521e-04,\n",
              "        2.52661586e-04, 6.99322845e-05, 4.55287263e-05, 3.17965588e-03,\n",
              "        5.33183804e-03, 1.30475149e-03, 3.12986900e-04, 9.78701701e-06,\n",
              "        8.55300389e-03, 2.81310877e-05, 3.13432858e-04, 2.00648465e-05,\n",
              "        6.72867027e-05, 4.00874671e-03, 6.90519286e-04, 3.58739257e-04,\n",
              "        2.99209380e-03, 7.89440455e-05, 2.01579370e-03, 1.01067271e-05,\n",
              "        4.24907746e-04, 2.90596541e-02, 4.29234933e-03, 1.00654771e-03,\n",
              "        6.64449453e-06, 4.68477607e-04, 4.30772707e-06, 6.59758298e-05,\n",
              "        2.46936281e-04, 1.21784775e-04, 2.36584296e-04, 1.64397398e-03,\n",
              "        6.88125729e-04, 2.90155673e-04, 4.73178943e-06, 7.19507458e-03,\n",
              "        4.81351130e-02],\n",
              "       [8.59529674e-01, 2.88704882e-08, 7.67831167e-04, 4.77063713e-06,\n",
              "        7.60722799e-07, 3.88163301e-07, 3.85118165e-06, 2.00651996e-07,\n",
              "        6.98167714e-05, 3.18446450e-06, 1.10203337e-05, 2.26902921e-06,\n",
              "        1.79415743e-04, 1.54913687e-05, 1.31980749e-04, 1.08287679e-06,\n",
              "        1.40025921e-04, 2.69607612e-04, 1.22604964e-04, 5.26549760e-04,\n",
              "        3.00326889e-07, 4.88330188e-05, 2.08965103e-05, 2.20710194e-06,\n",
              "        1.77163235e-03, 5.40615247e-07, 6.69068777e-06, 1.39793974e-05,\n",
              "        2.48745141e-06, 3.54396238e-04, 5.66385893e-07, 5.56398591e-05,\n",
              "        6.92919944e-04, 1.76562992e-07, 2.60493152e-07, 1.61742268e-04,\n",
              "        4.15822549e-04, 2.92928530e-06, 3.99234559e-05, 6.30211980e-06,\n",
              "        2.77420750e-05, 1.60216202e-03, 6.90506511e-07, 1.13531648e-07,\n",
              "        1.00067916e-06, 2.77483196e-07, 4.88637423e-04, 5.49660717e-06,\n",
              "        8.38727345e-08, 1.02849599e-05, 3.78407299e-06, 4.17801857e-06,\n",
              "        3.50568334e-05, 7.99044847e-06, 1.26322050e-06, 1.47765036e-06,\n",
              "        1.66729133e-05, 1.18165269e-01, 2.29703182e-05, 1.96841356e-04,\n",
              "        6.46716126e-06, 3.62935623e-07, 3.51867755e-04, 1.85639249e-06,\n",
              "        5.31948099e-05, 2.29635702e-07, 8.67077142e-06, 1.17394833e-04,\n",
              "        2.25189979e-06, 3.60118793e-05, 1.30402626e-07, 5.87159207e-07,\n",
              "        3.02588590e-03, 3.55709315e-04, 6.08652306e-04, 3.29452341e-08,\n",
              "        3.66963167e-03, 1.69206629e-04, 3.47609193e-06, 1.41143091e-05,\n",
              "        2.94082565e-06, 1.07745273e-05, 2.90095550e-03, 3.85251566e-04,\n",
              "        2.73981073e-04, 1.11913854e-04, 9.40405727e-08, 2.42208145e-04,\n",
              "        8.48673398e-09, 7.03101205e-06, 7.23341316e-08, 6.81710799e-06,\n",
              "        1.56738238e-07, 2.96179155e-06, 4.38179923e-05, 4.40224994e-06,\n",
              "        9.58737246e-07, 3.03677712e-06, 1.59710948e-03, 3.89545363e-07,\n",
              "        8.68830375e-06]], dtype=float32)"
            ]
          },
          "metadata": {},
          "execution_count": 13
        }
      ]
    },
    {
      "cell_type": "markdown",
      "source": [
        "Alright it seems like we've got a bunch of tensors of really small number, how about we zoom into one of them ?"
      ],
      "metadata": {
        "id": "EMRwNt8j9gzb"
      }
    },
    {
      "cell_type": "code",
      "source": [
        "# we get prediction probability per class\n",
        "print(f\"Number of prediction probabilities of sample 5:\\n {len(pred_probs[5])}\")\n",
        "print(f\"What prediction probability sample 5 looks like:\\n {pred_probs[5]}\")\n",
        "print(f\"The class with the highest predicted probability by the model for sample 5: {pred_probs[5].argmax()}\")"
      ],
      "metadata": {
        "colab": {
          "base_uri": "https://localhost:8080/"
        },
        "id": "4KbufWEv9wKX",
        "outputId": "6c16665f-fc61-4701-b8af-00dd875b3850"
      },
      "execution_count": 7,
      "outputs": [
        {
          "output_type": "stream",
          "name": "stdout",
          "text": [
            "Number of prediction probabilities of sample 5:\n",
            " 101\n",
            "What prediction probability sample 5 looks like:\n",
            " [1.43612968e-03 5.66793024e-04 2.42222109e-06 2.21843042e-08\n",
            " 6.63524697e-05 2.91359925e-07 2.06487528e-07 3.70382550e-05\n",
            " 1.45565830e-02 7.99878407e-03 9.23311381e-05 2.60745281e-07\n",
            " 8.93053027e-07 5.33940636e-07 4.67929254e-07 1.35429276e-04\n",
            " 1.29060379e-06 6.95182507e-08 5.81442844e-03 1.40934992e-06\n",
            " 1.69611420e-03 2.81838641e-08 7.47001081e-07 3.15858870e-07\n",
            " 1.23700474e-07 2.66149709e-06 1.28277443e-05 2.96370004e-08\n",
            " 4.30185219e-06 2.72786423e-07 3.56787837e-06 6.49144204e-06\n",
            " 7.66505673e-06 7.35937320e-08 4.82058822e-05 4.38495647e-07\n",
            " 4.98355657e-05 2.10382113e-05 2.23280769e-03 1.58288458e-06\n",
            " 5.25041437e-03 4.94722917e-06 8.28593984e-05 1.42094372e-02\n",
            " 4.96673711e-05 1.03320754e-05 4.43919106e-08 2.91163567e-03\n",
            " 2.48193714e-07 1.77201990e-04 1.35997063e-04 8.69400174e-06\n",
            " 2.77872095e-05 3.65669490e-04 5.39166067e-05 7.44335466e-06\n",
            " 1.14568538e-04 1.51068634e-05 3.00143199e-07 1.92399733e-04\n",
            " 2.50361900e-08 9.43715964e-03 1.16025256e-02 3.79149050e-08\n",
            " 3.47474916e-09 4.95541244e-08 4.21305280e-03 2.62741505e-05\n",
            " 5.54510392e-03 9.77285481e-07 2.17632660e-05 2.24215459e-04\n",
            " 1.10939473e-04 1.81460962e-06 2.31917656e-05 2.81369221e-08\n",
            " 1.23070495e-05 3.15542624e-04 8.86682510e-01 2.09876125e-05\n",
            " 1.06288807e-03 3.28440160e-06 4.42011195e-04 1.77400814e-08\n",
            " 3.15216428e-04 1.98140531e-03 2.97676390e-08 2.79623910e-05\n",
            " 1.04470326e-08 1.89991519e-02 1.75989737e-06 1.41068313e-07\n",
            " 1.11688870e-07 1.57932314e-04 4.19607090e-07 1.69211144e-05\n",
            " 2.87324419e-05 1.01647973e-04 6.88954344e-07 1.53392757e-05\n",
            " 1.86216319e-04]\n",
            "The class with the highest predicted probability by the model for sample 5: 78\n"
          ]
        }
      ]
    },
    {
      "cell_type": "markdown",
      "source": [
        "For each image tensor we pass to our model, because of the number of output neurons and activation function in the last layer, it outputs a prediction probability between 0 and 1 for all each of the 101 classes.\n",
        "\n",
        "And the index of the highest prediction probability can be considered what the model thinks is the most likely label. Similarly, the lower prediction probability value, the less the model thinks that the target image is that specific class.\n",
        "\n",
        "> **Note**: Due to the nature of the softmax activation function, the sum of each prediction probabilities for a single sample will be 1 (or closer to 1)\n",
        "\n",
        "For example,"
      ],
      "metadata": {
        "id": "ERTEYTRU-KEp"
      }
    },
    {
      "cell_type": "code",
      "source": [
        "# This is what said in the above note\n",
        "pred_probs[0].sum()"
      ],
      "metadata": {
        "colab": {
          "base_uri": "https://localhost:8080/"
        },
        "id": "EFNqt921_51y",
        "outputId": "6c5fdad5-a81c-40f1-9185-563b4eab19a8"
      },
      "execution_count": null,
      "outputs": [
        {
          "output_type": "execute_result",
          "data": {
            "text/plain": [
              "1.0"
            ]
          },
          "metadata": {},
          "execution_count": 25
        }
      ]
    },
    {
      "cell_type": "markdown",
      "source": [
        "We can also find the index of the maximum value in each prediction probability tensor using `argmax()` method"
      ],
      "metadata": {
        "id": "kHk4lQ88AJXa"
      }
    },
    {
      "cell_type": "code",
      "source": [
        "pred_classes = pred_probs.argmax(axis=1)\n",
        "\n",
        "# How do they look ?\n",
        "pred_classes[:10]"
      ],
      "metadata": {
        "colab": {
          "base_uri": "https://localhost:8080/"
        },
        "id": "0rrLLNbfAWoR",
        "outputId": "c7ef186f-e094-4573-865c-1600a3b85599"
      },
      "execution_count": 8,
      "outputs": [
        {
          "output_type": "execute_result",
          "data": {
            "text/plain": [
              "array([ 0,  0,  0,  8,  8, 78, 29, 46,  9,  0])"
            ]
          },
          "metadata": {},
          "execution_count": 8
        }
      ]
    },
    {
      "cell_type": "markdown",
      "source": [
        "Beautiful ! We've now got the predicted class index for each of the samples in our test dataset.\n",
        "\n",
        "We'll be able to compare these to the test dataset labels to further evaluate our model.\n",
        "\n",
        "To get the test dataset label we can unravel our `test_data` object (which is in the form of `tf.data.Dataset`) using the `unbatch()` method.\n",
        "\n",
        "Doing this will give us the access to the images and lables in the test dataset. Since the labels are in one-hot encoded format, we'll take use the `argmax()` method to return the index of the label."
      ],
      "metadata": {
        "id": "vUnp3nu5AggJ"
      }
    },
    {
      "cell_type": "markdown",
      "source": [
        "> **Note**: This unravelling is why we `shuffle=False` when creating the test data object. Otherwise, whenever we loaded the test data to make predictions, it would be shuffled every time, meaning if we tried to compare our predictions to the labels, they would be in different orders."
      ],
      "metadata": {
        "id": "pzUEeU7tevBf"
      }
    },
    {
      "cell_type": "code",
      "source": [
        "# check the length of test data\n",
        "len(test_data), len(test_data) * 32 # 32 is a batch size"
      ],
      "metadata": {
        "colab": {
          "base_uri": "https://localhost:8080/"
        },
        "id": "wjUI7MisfDgr",
        "outputId": "055245c7-f933-43f4-dc8c-1ea8b6d2400e"
      },
      "execution_count": 9,
      "outputs": [
        {
          "output_type": "execute_result",
          "data": {
            "text/plain": [
              "(790, 25280)"
            ]
          },
          "metadata": {},
          "execution_count": 9
        }
      ]
    },
    {
      "cell_type": "code",
      "source": [
        "# extracting the labels from the test_data\n",
        "y_labels = []\n",
        "\n",
        "for images, labels in test_data.unbatch():\n",
        "  y_labels.append(labels.numpy().argmax())\n",
        "\n",
        "# view some y_labels\n",
        "y_labels[:10]"
      ],
      "metadata": {
        "colab": {
          "base_uri": "https://localhost:8080/"
        },
        "id": "3e7s_A33fP2t",
        "outputId": "fa28af9d-7475-45c4-e4c5-02d0cd564058"
      },
      "execution_count": 10,
      "outputs": [
        {
          "output_type": "execute_result",
          "data": {
            "text/plain": [
              "[0, 0, 0, 0, 0, 0, 0, 0, 0, 0]"
            ]
          },
          "metadata": {},
          "execution_count": 10
        }
      ]
    },
    {
      "cell_type": "code",
      "source": [
        "# How many labels are there ?\n",
        "len(y_labels)"
      ],
      "metadata": {
        "colab": {
          "base_uri": "https://localhost:8080/"
        },
        "id": "G7ccIXwtfj37",
        "outputId": "cc41f191-b34f-4aad-cd3f-b8361e6882fc"
      },
      "execution_count": 11,
      "outputs": [
        {
          "output_type": "execute_result",
          "data": {
            "text/plain": [
              "25250"
            ]
          },
          "metadata": {},
          "execution_count": 11
        }
      ]
    },
    {
      "cell_type": "markdown",
      "source": [
        "It's the same number of labels as the images"
      ],
      "metadata": {
        "id": "JlSYeU4tfwfT"
      }
    },
    {
      "cell_type": "markdown",
      "source": [
        "### Evaluating our models predictions\n",
        "\n",
        "A very simple evaluation is to use Scikit-learn's `accuracy_score()` function which compares the truth labels to the predicted labels and returns an accuracy socre."
      ],
      "metadata": {
        "id": "g26lHkisf1Af"
      }
    },
    {
      "cell_type": "code",
      "source": [
        "# let's evaluate using scikit-learn libary\n",
        "from sklearn.metrics import accuracy_score\n",
        "\n",
        "sklearn_accuracy = accuracy_score(y_true=y_labels,\n",
        "                                  y_pred=pred_classes)\n",
        "\n",
        "sklearn_accuracy"
      ],
      "metadata": {
        "colab": {
          "base_uri": "https://localhost:8080/"
        },
        "id": "VdGDPlMYgBwL",
        "outputId": "79467485-1a2b-4495-ddad-42103b5bb7b0"
      },
      "execution_count": 14,
      "outputs": [
        {
          "output_type": "execute_result",
          "data": {
            "text/plain": [
              "0.6034455445544554"
            ]
          },
          "metadata": {},
          "execution_count": 14
        }
      ]
    },
    {
      "cell_type": "markdown",
      "source": [
        "And this should be almost same as `loaded_accuracy`"
      ],
      "metadata": {
        "id": "_2lz_0gwgJ0k"
      }
    },
    {
      "cell_type": "code",
      "source": [
        "loaded_accuracy"
      ],
      "metadata": {
        "colab": {
          "base_uri": "https://localhost:8080/"
        },
        "id": "O3VExo0ngyb5",
        "outputId": "e663f348-62e1-4518-f7b1-e22ac68785bb"
      },
      "execution_count": 15,
      "outputs": [
        {
          "output_type": "execute_result",
          "data": {
            "text/plain": [
              "0.6034455299377441"
            ]
          },
          "metadata": {},
          "execution_count": 15
        }
      ]
    },
    {
      "cell_type": "markdown",
      "source": [
        "How about we get a little bit more visual with a confusion matrix ?\n",
        "\n",
        "To do so, we'll use first tensorflow's confusion matrix using `tf.math.confusion_matrix`"
      ],
      "metadata": {
        "id": "dfFVf9yEgyyO"
      }
    },
    {
      "cell_type": "code",
      "source": [
        "tf.math.confusion_matrix(labels=y_labels,\n",
        "                         predictions=pred_classes,\n",
        "                         num_classes=len(test_data.class_names))"
      ],
      "metadata": {
        "colab": {
          "base_uri": "https://localhost:8080/"
        },
        "id": "fTL0VO1ihQ4S",
        "outputId": "2491e37a-54fe-49d8-bec2-aa5d54be40b0"
      },
      "execution_count": 16,
      "outputs": [
        {
          "output_type": "execute_result",
          "data": {
            "text/plain": [
              "<tf.Tensor: shape=(101, 101), dtype=int32, numpy=\n",
              "array([[ 44,   1,  18, ...,   8,   3,   5],\n",
              "       [  0, 171,   0, ...,   0,   0,   0],\n",
              "       [ 14,   2, 141, ...,   2,   1,   1],\n",
              "       ...,\n",
              "       [  2,   0,   1, ..., 151,   0,   0],\n",
              "       [  1,   1,   0, ...,   0, 113,   0],\n",
              "       [  2,   0,   1, ...,   3,   1, 162]], dtype=int32)>"
            ]
          },
          "metadata": {},
          "execution_count": 16
        }
      ]
    },
    {
      "cell_type": "markdown",
      "source": [
        "But this can't say much about which class is been predicted correct or incorrect, we have make a visualization, so let's plot it."
      ],
      "metadata": {
        "id": "jk2UBcxChgsP"
      }
    },
    {
      "cell_type": "code",
      "source": [
        "# import libaries\n",
        "from sklearn.metrics import confusion_matrix\n",
        "import itertools\n",
        "import numpy as np\n",
        "import matplotlib.pyplot as plt\n",
        "import pandas as pd\n",
        "\n",
        "def make_confusion_matrix(y_true, y_pred, classes=None, figsize=(10,10), text_size=15, norm=False, savefig=False):\n",
        "  \"\"\"\n",
        "  Makes a labelled confusion matrix comparing predictions and ground truth labels\n",
        "  \n",
        "  If classes is passed, confusion matrix will be labelled, if not, integer class values will be used.\n",
        "\n",
        "  Args:\n",
        "    y_true: These are the truth labels (must be same shape as y_pred)\n",
        "    y_pred: Array of predicted labels (must be same shape as y_true)\n",
        "    classes: Array of class labels (e.g string form). If `None`, integer labels are used.\n",
        "    figsize: Size of output figure (default=(10, 10))\n",
        "    text_size: Size of output figure text (default=15)\n",
        "    norm: normalize values or not (default=False)\n",
        "    savefig: save confusion matrix to file (default=False)\n",
        "  \n",
        "  Return:\n",
        "    A labelled confusion matrix plot comparing y_true and y_pred  \n",
        "  \"\"\"\n",
        "\n",
        "  # Create the confusion matrix\n",
        "  cm = confusion_matrix(y_true, y_pred)\n",
        "  cm_norm = cm.astype('float') / cm.sum(axis=1)[:, np.newaxis] # normalize it\n",
        "  n_classes = cm.shape[0] # find the number of classes we're dealing with\n",
        "\n",
        "  # plot the figure and make it pretty\n",
        "  fig, ax = plt.subplots(figsize=figsize)\n",
        "  cax = ax.matshow(cm, cmap=plt.cm.Blues) # Colors will represent how 'correct' a class if, darker==better\n",
        "  fig.colorbar(cax)\n",
        "\n",
        "  # Are there a list of classes ?\n",
        "  if classes:\n",
        "    labels=classes\n",
        "  else:\n",
        "    labels = np.arange(cm.shape[0])\n",
        "  \n",
        "  # Label the axes\n",
        "  ax.set(title='Confusion Matrix',\n",
        "         xlabel='Predicted label',\n",
        "         ylabel='True label',\n",
        "         xticks=np.arange(n_classes),\n",
        "         yticks=np.arange(n_classes),\n",
        "         xticklabels=labels,\n",
        "         yticklabels=labels)\n",
        "  \n",
        "  # Make x-axis labels appear on bottom\n",
        "  ax.xaxis.set_label_position('bottom')\n",
        "  ax.xaxis.tick_bottom()\n",
        "\n",
        "  plt.xticks(rotation=70, fontsize=text_size)\n",
        "  plt.yticks(fontsize=text_size)\n",
        "\n",
        "  # Set the threshold for different colors\n",
        "  threshold = (cm.max() / cm.min()) / 2.\n",
        "\n",
        "  # Plot the text on each cell\n",
        "  for i, j in itertools.product(range(cm.shape[0]), range(cm.shape[1])):\n",
        "    plt.text(i, j, f'{cm[i, j]}', horizontalalignment='center', color='white' if cm[i, j] > threshold else 'black', size=text_size)\n",
        "\n",
        "  \n",
        "  # save the figure to the currect working directory\n",
        "  if savefig:\n",
        "    fig.savefig('confusion_matrix.png');"
      ],
      "metadata": {
        "id": "ZZzw92NehxXw"
      },
      "execution_count": 20,
      "outputs": []
    },
    {
      "cell_type": "code",
      "source": [
        "make_confusion_matrix(y_true=y_labels,\n",
        "                      y_pred=pred_classes,\n",
        "                      classes=test_data.class_names,\n",
        "                      figsize=(100,100),\n",
        "                      text_size=20,\n",
        "                      savefig=True)"
      ],
      "metadata": {
        "colab": {
          "base_uri": "https://localhost:8080/"
        },
        "id": "N_-8PbTmnezJ",
        "outputId": "8013e6fc-f2a8-440d-cf19-a1a6e71c635e"
      },
      "execution_count": null,
      "outputs": [
        {
          "output_type": "stream",
          "name": "stderr",
          "text": [
            "<ipython-input-20-5efaa77eb420>:60: RuntimeWarning: divide by zero encountered in long_scalars\n",
            "  threshold = (cm.max() / cm.min()) / 2.\n"
          ]
        }
      ]
    },
    {
      "cell_type": "code",
      "source": [],
      "metadata": {
        "id": "kg1EzykQnyEl"
      },
      "execution_count": null,
      "outputs": []
    }
  ]
}